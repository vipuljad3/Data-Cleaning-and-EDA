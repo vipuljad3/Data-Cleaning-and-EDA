{
 "cells": [
  {
   "cell_type": "markdown",
   "metadata": {},
   "source": [
    "# Assessment 2: Exploratory Data Analysis and Data Cleansing\n",
    "## Name : Vipul Jad\n",
    "## Id : 29520762\n"
   ]
  },
  {
   "cell_type": "markdown",
   "metadata": {},
   "source": [
    "## Importing Libraries.\n",
    "- Pandas is imported as pandas\n",
    "- imported CSV for additional CSV functions\n",
    "- Imported Regular Expressions\n",
    "- Imported DateTime for cleaning date and time data\n",
    "- Imported matplitlib as plt for plotting the graphs"
   ]
  },
  {
   "cell_type": "code",
   "execution_count": 1,
   "metadata": {},
   "outputs": [],
   "source": [
    "import pandas as pa \n",
    "import csv\n",
    "import re\n",
    "import datetime \n",
    "import matplotlib as mpl\n",
    "import matplotlib.pylab as pyl\n",
    "import matplotlib.pyplot as plt\n",
    "from IPython.display import Image\n"
   ]
  },
  {
   "cell_type": "markdown",
   "metadata": {},
   "source": [
    "## Importing the csv file into a Data Frame  and Viewing it.\n",
    "- using the read.csv() function importing the dataframe"
   ]
  },
  {
   "cell_type": "code",
   "execution_count": 2,
   "metadata": {},
   "outputs": [
    {
     "name": "stdout",
     "output_type": "stream",
     "text": [
      "<class 'pandas.core.frame.DataFrame'>\n",
      "RangeIndex: 35388 entries, 0 to 35387\n",
      "Data columns (total 16 columns):\n",
      "Id                       35363 non-null object\n",
      "Drone Type               35378 non-null float64\n",
      "Post Type                35368 non-null float64\n",
      "Package Weight           35388 non-null float64\n",
      "Origin Region            35378 non-null float64\n",
      "Destination Region       35378 non-null float64\n",
      "Origin Latitude          35388 non-null float64\n",
      "Origin Longitude         35388 non-null float64\n",
      "Destination Latitude     35388 non-null float64\n",
      "Destination Longitude    35388 non-null float64\n",
      "Journey Distance         35388 non-null float64\n",
      "Departure Date           35388 non-null object\n",
      "Departure Time           35388 non-null object\n",
      "Travel Time              35348 non-null float64\n",
      "Delivery Time            35388 non-null object\n",
      "Delivery Fare            35358 non-null float64\n",
      "dtypes: float64(12), object(4)\n",
      "memory usage: 4.3+ MB\n"
     ]
    }
   ],
   "source": [
    "df=pa.DataFrame()\n",
    "df=pa.read_csv(\"29520762.csv\")\n",
    "df.info()"
   ]
  },
  {
   "cell_type": "markdown",
   "metadata": {},
   "source": [
    "### Analysing the latitudes and longitudes (Origin and Destination)\n",
    "- Describing each column."
   ]
  },
  {
   "cell_type": "code",
   "execution_count": 3,
   "metadata": {},
   "outputs": [
    {
     "name": "stdout",
     "output_type": "stream",
     "text": [
      "count    35388.000000\n",
      "mean       -37.688710\n",
      "std          1.937595\n",
      "min        -39.006823\n",
      "25%        -38.420234\n",
      "50%        -37.678353\n",
      "75%        -37.082438\n",
      "max         38.399019\n",
      "Name: Origin Latitude, dtype: float64\n",
      "count    35388.000000\n",
      "mean       -37.677912\n",
      "std          1.945753\n",
      "min        -39.006823\n",
      "25%        -38.410415\n",
      "50%        -37.667249\n",
      "75%        -37.069625\n",
      "max         38.898171\n",
      "Name: Destination Latitude, dtype: float64\n",
      "count    35388.000000\n",
      "mean       145.399800\n",
      "std          7.112457\n",
      "min       -147.663155\n",
      "25%        143.996850\n",
      "50%        145.536621\n",
      "75%        146.941995\n",
      "max        148.450877\n",
      "Name: Origin Longitude, dtype: float64\n",
      "count    35388.000000\n",
      "mean       145.411825\n",
      "std          7.124517\n",
      "min       -148.232657\n",
      "25%        144.018537\n",
      "50%        145.552299\n",
      "75%        146.953927\n",
      "max        148.450877\n",
      "Name: Destination Longitude, dtype: float64\n"
     ]
    }
   ],
   "source": [
    "print(df['Origin Latitude'].describe())\n",
    "print(df['Destination Latitude'].describe())\n",
    "print(df['Origin Longitude'].describe())\n",
    "print(df['Destination Longitude'].describe())"
   ]
  },
  {
   "cell_type": "code",
   "execution_count": 4,
   "metadata": {},
   "outputs": [
    {
     "data": {
      "text/plain": [
       "<matplotlib.axes._subplots.AxesSubplot at 0x21a235443c8>"
      ]
     },
     "execution_count": 4,
     "metadata": {},
     "output_type": "execute_result"
    },
    {
     "data": {
      "image/png": "[encoded data removed]",
      "text/plain": [
       "<Figure size 432x288 with 1 Axes>"
      ]
     },
     "metadata": {},
     "output_type": "display_data"
    }
   ],
   "source": [
    "df['Origin Latitude'].plot()\n",
    "#df.boxplot(column='Origin Latitude',by='Id',figsize=(15,10),fontsize=20 )"
   ]
  },
  {
   "cell_type": "code",
   "execution_count": 5,
   "metadata": {},
   "outputs": [
    {
     "data": {
      "text/plain": [
       "<matplotlib.axes._subplots.AxesSubplot at 0x21a23a24c50>"
      ]
     },
     "execution_count": 5,
     "metadata": {},
     "output_type": "execute_result"
    },
    {
     "data": {
      "image/png": "[encoded data removed]",
      "text/plain": [
       "<Figure size 432x288 with 1 Axes>"
      ]
     },
     "metadata": {},
     "output_type": "display_data"
    }
   ],
   "source": [
    "df['Destination Latitude'].plot()"
   ]
  },
  {
   "cell_type": "code",
   "execution_count": 6,
   "metadata": {},
   "outputs": [
    {
     "data": {
      "text/plain": [
       "<matplotlib.axes._subplots.AxesSubplot at 0x21a24a5dcc0>"
      ]
     },
     "execution_count": 6,
     "metadata": {},
     "output_type": "execute_result"
    },
    {
     "data": {
      "image/png": "[encoded data removed]",
      "text/plain": [
       "<Figure size 432x288 with 1 Axes>"
      ]
     },
     "metadata": {},
     "output_type": "display_data"
    }
   ],
   "source": [
    "df['Origin Longitude'].plot()\n"
   ]
  },
  {
   "cell_type": "code",
   "execution_count": 7,
   "metadata": {},
   "outputs": [
    {
     "data": {
      "text/plain": [
       "<matplotlib.axes._subplots.AxesSubplot at 0x21a24ad8fd0>"
      ]
     },
     "execution_count": 7,
     "metadata": {},
     "output_type": "execute_result"
    },
    {
     "data": {
      "image/png": "[encoded data removed]",
      "text/plain": [
       "<Figure size 432x288 with 1 Axes>"
      ]
     },
     "metadata": {},
     "output_type": "display_data"
    }
   ],
   "source": [
    "\n",
    "df['Destination Longitude'].plot(by=df.Id)"
   ]
  },
  {
   "cell_type": "markdown",
   "metadata": {},
   "source": [
    "- From the above graphical representation we can deduce that the latitude has many positive values which needs to be converted to negative values as Victoria,Australia is below the equator. \n",
    "- Similarly the longitudes has many positive values which needs to be corrected as Victoria is on the east of the globe.\n",
    "- (assuming the mistake is only done to the signs of the data while entering the data)."
   ]
  },
  {
   "cell_type": "markdown",
   "metadata": {},
   "source": [
    "- below is the TABLEAU representation of the latitudes and longitudes including the regions\n",
    "- as we can see the problems in plotting the coordinates \n",
    "- because of sign variation the coordinates are shown outside Victoria."
   ]
  },
  {
   "attachments": {
    "ll.png": {
     "image/png": "[encoded data removed]"
    }
   },
   "cell_type": "markdown",
   "metadata": {},
   "source": [
    "![ll.png](attachment:ll.png)"
   ]
  },
  {
   "cell_type": "code",
   "execution_count": null,
   "metadata": {},
   "outputs": [],
   "source": []
  },
  {
   "cell_type": "code",
   "execution_count": 8,
   "metadata": {},
   "outputs": [
    {
     "name": "stdout",
     "output_type": "stream",
     "text": [
      "corrected origin latitudes: 20\n",
      "corrected destination latitudes: 20\n",
      "corrected origin longitudes: 20\n",
      "corrected destination longitudes: 20\n"
     ]
    }
   ],
   "source": [
    "nelat=[]\n",
    "count= 0\n",
    "for m in df['Origin Latitude']:\n",
    "    if m >= 0.0:\n",
    "        m=m*(-1)\n",
    "        count+=1\n",
    "    nelat.append(round(m,7))\n",
    "print(\"corrected origin latitudes:\",count)    \n",
    "df['Origin Latitude']= nelat\n",
    "count=0\n",
    "nelatt=[]\n",
    "for m in df['Destination Latitude']:\n",
    "    if m >= 0.0:\n",
    "        m=m*(-1)\n",
    "        count+=1\n",
    "    nelatt.append(round(m,7)) \n",
    "print(\"corrected destination latitudes:\",count)  \n",
    "df['Destination Latitude']= nelatt\n",
    "nelong=[]\n",
    "count=0\n",
    "for m in df['Origin Longitude']:\n",
    "    if m <= 0.0:\n",
    "        m=m*(-1)\n",
    "        count+=1\n",
    "    nelong.append(round(m,7))\n",
    "print(\"corrected origin longitudes:\",count)     \n",
    "df['Origin Longitude']=nelong   \n",
    "nelongg=[]\n",
    "count=0\n",
    "for m in df['Destination Longitude']:\n",
    "    if m <= 0.0:\n",
    "        m=m*(-1)\n",
    "        count+=1\n",
    "    nelongg.append(round(m,7))\n",
    "print(\"corrected destination longitudes:\",count)\n",
    "df['Destination Longitude']=nelongg "
   ]
  },
  {
   "cell_type": "markdown",
   "metadata": {},
   "source": [
    "## Post Type\n",
    "- On visually analysing the dataset using CHARTIO . i came to the conclusion that the Post Type column is dependent on the ID of the drones as follows\n",
    "- the ID which starts with the number 1 has post type 0.0 and \n",
    "- the ID which starts with the number 5 has post type 1.0\n",
    "- the following code dtects the total number of null values and the correcponding post types mistakes"
   ]
  },
  {
   "attachments": {
    "postt.png": {
     "image/png": "[encoded data removed]"
    }
   },
   "cell_type": "markdown",
   "metadata": {},
   "source": [
    "![postt.png](attachment:postt.png)"
   ]
  },
  {
   "cell_type": "code",
   "execution_count": 9,
   "metadata": {},
   "outputs": [],
   "source": [
    "count=0\n",
    "for i in range(0,len(df[\"Post Type\"])):\n",
    "    if pa.isna(df[\"Post Type\"][i]):\n",
    "        count+=1\n",
    "    if df[\"Post Type\"][i]>=9:\n",
    "        if df.Id[i][3]!='1' and df[\"Post Type\"][i] != 0.0:\n",
    "            count+=1\n",
    "        elif df.iloc[i,0][3]!='5' and df[\"Post Type\"][i] != 1.0: \n",
    "            count+=1"
   ]
  },
  {
   "cell_type": "code",
   "execution_count": 10,
   "metadata": {},
   "outputs": [
    {
     "data": {
      "text/plain": [
       "20"
      ]
     },
     "execution_count": 10,
     "metadata": {},
     "output_type": "execute_result"
    }
   ],
   "source": [
    "count"
   ]
  },
  {
   "cell_type": "markdown",
   "metadata": {},
   "source": [
    "#### on evaluating we detected 20 errors in the column\n",
    "- correcting the detected mistakes in the database"
   ]
  },
  {
   "cell_type": "code",
   "execution_count": 11,
   "metadata": {},
   "outputs": [
    {
     "name": "stderr",
     "output_type": "stream",
     "text": [
      "C:\\Users\\vipul\\Anaconda3\\lib\\site-packages\\ipykernel_launcher.py:6: SettingWithCopyWarning: \n",
      "A value is trying to be set on a copy of a slice from a DataFrame\n",
      "\n",
      "See the caveats in the documentation: http://pandas.pydata.org/pandas-docs/stable/indexing.html#indexing-view-versus-copy\n",
      "  \n",
      "C:\\Users\\vipul\\Anaconda3\\lib\\site-packages\\ipykernel_launcher.py:4: SettingWithCopyWarning: \n",
      "A value is trying to be set on a copy of a slice from a DataFrame\n",
      "\n",
      "See the caveats in the documentation: http://pandas.pydata.org/pandas-docs/stable/indexing.html#indexing-view-versus-copy\n",
      "  after removing the cwd from sys.path.\n",
      "C:\\Users\\vipul\\Anaconda3\\lib\\site-packages\\ipykernel_launcher.py:14: SettingWithCopyWarning: \n",
      "A value is trying to be set on a copy of a slice from a DataFrame\n",
      "\n",
      "See the caveats in the documentation: http://pandas.pydata.org/pandas-docs/stable/indexing.html#indexing-view-versus-copy\n",
      "  \n",
      "C:\\Users\\vipul\\Anaconda3\\lib\\site-packages\\ipykernel_launcher.py:11: SettingWithCopyWarning: \n",
      "A value is trying to be set on a copy of a slice from a DataFrame\n",
      "\n",
      "See the caveats in the documentation: http://pandas.pydata.org/pandas-docs/stable/indexing.html#indexing-view-versus-copy\n",
      "  # This is added back by InteractiveShellApp.init_path()\n",
      "C:\\Users\\vipul\\Anaconda3\\lib\\site-packages\\ipykernel_launcher.py:20: SettingWithCopyWarning: \n",
      "A value is trying to be set on a copy of a slice from a DataFrame\n",
      "\n",
      "See the caveats in the documentation: http://pandas.pydata.org/pandas-docs/stable/indexing.html#indexing-view-versus-copy\n",
      "C:\\Users\\vipul\\Anaconda3\\lib\\site-packages\\ipykernel_launcher.py:22: SettingWithCopyWarning: \n",
      "A value is trying to be set on a copy of a slice from a DataFrame\n",
      "\n",
      "See the caveats in the documentation: http://pandas.pydata.org/pandas-docs/stable/indexing.html#indexing-view-versus-copy\n"
     ]
    }
   ],
   "source": [
    "for i in range(0,len(df[\"Post Type\"])):\n",
    "    if pa.isna(df[\"Post Type\"][i]):\n",
    "        if df.iloc[i,0][3]=='1':\n",
    "            df[\"Post Type\"][i]=0.0\n",
    "        elif df.iloc[i,0][3]=='5':\n",
    "            df[\"Post Type\"][i]=1.0\n",
    "for i in range ( 0 , len (df.Id)):\n",
    "    if not pa.isna(df['Id'][i]):\n",
    "        if df['Id'][i][2]=='1':\n",
    "            if df[\"Post Type\"][i]==1.0:\n",
    "                df[\"Post Type\"][i]=0.0\n",
    "        elif df['Id'][i][2]=='5':\n",
    "            if df['Post Type'][i]==0.0:\n",
    "                df['Post Type'][i]=1.0\n",
    "count = 1\n",
    "for i in range ( 0 , len (df.Id)-1):\n",
    "    count+=1\n",
    "    if pa.isna(df['Post Type'][i]):\n",
    "        if str(df['Id'][i][2])=='1':\n",
    "            df[\"Post Type\"][i]=0.0\n",
    "        elif str(df['Id'][i][2])=='5':\n",
    "            df[\"Post Type\"][i]=1.0\n",
    "#print(count)            \n",
    "#len(df.Id)                        "
   ]
  },
  {
   "cell_type": "markdown",
   "metadata": {},
   "source": [
    "- again checking for errors "
   ]
  },
  {
   "cell_type": "code",
   "execution_count": 12,
   "metadata": {},
   "outputs": [
    {
     "data": {
      "text/plain": [
       "0"
      ]
     },
     "execution_count": 12,
     "metadata": {},
     "output_type": "execute_result"
    }
   ],
   "source": [
    "count=0\n",
    "for i in range(0,len(df[\"Post Type\"])):\n",
    "    if pa.isna(df[\"Post Type\"][i]):\n",
    "        count+=1\n",
    "    if df[\"Post Type\"][i]>=9:\n",
    "        if df.Id[i][3]!='1' and df[\"Post Type\"][i] != 0.0:\n",
    "            count+=1\n",
    "        elif df.iloc[i,0][3]!='5' and df[\"Post Type\"][i] != 1.0: \n",
    "            count+=1\n",
    "count            "
   ]
  },
  {
   "cell_type": "markdown",
   "metadata": {},
   "source": [
    "### The Post Type column is corrected."
   ]
  },
  {
   "cell_type": "markdown",
   "metadata": {},
   "source": [
    "### Checking the Departure Date column\n"
   ]
  },
  {
   "cell_type": "code",
   "execution_count": 13,
   "metadata": {},
   "outputs": [
    {
     "data": {
      "text/plain": [
       "count          35388\n",
       "unique           272\n",
       "top       2018-07-08\n",
       "freq             217\n",
       "Name: Departure Date, dtype: object"
      ]
     },
     "execution_count": 13,
     "metadata": {},
     "output_type": "execute_result"
    }
   ],
   "source": [
    "df[\"Departure Date\"].describe()"
   ]
  },
  {
   "cell_type": "markdown",
   "metadata": {},
   "source": [
    "- used pandas.datetime to check if the dates in the column are correctly written which reported an error . which states that the dates are not in well written format and there are some minor mistakes\n",
    "### Assumptions\n",
    "- if the month seems greater than 12 swapping it with the day , as there could be a writing mistake while data entry\n",
    "- checking the feb month should not have more than 28 days , and if there are then increasing the month by 1 ie March.\n",
    "- the months like April ,June ,September and November should not have more than 30 days if there are then month is increamented and the day is set to the first of respective increamented month as there could be a mistakes while entring the data the user may not remember the days limit of the month."
   ]
  },
  {
   "cell_type": "code",
   "execution_count": 14,
   "metadata": {},
   "outputs": [
    {
     "data": {
      "text/plain": [
       "214"
      ]
     },
     "execution_count": 14,
     "metadata": {},
     "output_type": "execute_result"
    }
   ],
   "source": [
    "#departure date \n",
    "vc=0\n",
    "invc=0\n",
    "dateli=[]\n",
    "count=0\n",
    "#df['Departure Date']=pa.to_datetime(df['Departure Date'])\n",
    "for m in df['Departure Date']:\n",
    "    if re.search(r'\\d\\d\\d\\d-\\d\\d-\\d\\d',m):\n",
    "        vc+=1\n",
    "        year=re.search(r'(\\d\\d\\d\\d)-\\d\\d-\\d\\d',m).group(1)\n",
    "        month=re.search(r'\\d\\d\\d\\d-(\\d\\d)-\\d\\d',m).group(1)\n",
    "        day= re.search(r'\\d\\d\\d\\d-\\d\\d-(\\d\\d)',m).group(1)\n",
    "        if int(month) > 12:\n",
    "            temp=month\n",
    "            month=day\n",
    "            day=temp\n",
    "            count+=1\n",
    "            #print('md')\n",
    "        elif int(month) == 2 and int(day)> 28 :\n",
    "            month = '03'\n",
    "            count+=1\n",
    "            #print('feb')\n",
    "        #print(date)\n",
    "        elif month in ['04','06','09','11'] and int(day)>30:\n",
    "            #print(m)\n",
    "            count+=1\n",
    "            x=month\n",
    "            x=int(x)\n",
    "            x+=1\n",
    "            month='0'+str(x)\n",
    "            day='01'\n",
    "            #print(day+month)\n",
    "            \n",
    "        date = year+\"-\"+month+\"-\"+day    \n",
    "    else :\n",
    "        invc+=1\n",
    "        \n",
    "    dateli.append(date)\n",
    "df['Departure Date']=dateli\n",
    "count"
   ]
  },
  {
   "cell_type": "markdown",
   "metadata": {},
   "source": [
    "- From the above calculations we corrected 214 dates and appended into a list.\n",
    "- now using the to_datetime function of pandas to check weather the dates are correct."
   ]
  },
  {
   "cell_type": "code",
   "execution_count": 15,
   "metadata": {},
   "outputs": [],
   "source": [
    "#df['Departure Date']=pa.to_datetime(df['Departure Date'], format = \"%Y-%m-%d\")"
   ]
  },
  {
   "cell_type": "code",
   "execution_count": null,
   "metadata": {},
   "outputs": [],
   "source": []
  },
  {
   "cell_type": "code",
   "execution_count": null,
   "metadata": {},
   "outputs": [],
   "source": []
  },
  {
   "cell_type": "markdown",
   "metadata": {},
   "source": [
    "- As the above code is executed we successfully corrected every date in the column\n",
    "- reverting the default datatype"
   ]
  },
  {
   "cell_type": "code",
   "execution_count": 16,
   "metadata": {},
   "outputs": [],
   "source": [
    "#df['Departure Date'] = df['Departure Date'].astype(object)\n",
    "#df['Departure Date'].unique()\n"
   ]
  },
  {
   "cell_type": "markdown",
   "metadata": {},
   "source": [
    "### The Journey Distance column\n",
    "- The journey distance can be calculated using the origin and destination latitude-longitudes.\n",
    "- The distance was calculated using the formula given in the following website https://andrew.hedges.name/experiments/haversine/\n",
    "- concidering the radious of earth as 6378 km "
   ]
  },
  {
   "cell_type": "code",
   "execution_count": 17,
   "metadata": {},
   "outputs": [
    {
     "data": {
      "text/plain": [
       "count    35388.000000\n",
       "mean       213.510961\n",
       "std        111.830289\n",
       "min          0.149000\n",
       "25%        127.242000\n",
       "50%        201.267000\n",
       "75%        286.288250\n",
       "max        552.916000\n",
       "Name: Journey Distance, dtype: float64"
      ]
     },
     "execution_count": 17,
     "metadata": {},
     "output_type": "execute_result"
    }
   ],
   "source": [
    "df[\"Journey Distance\"].describe()"
   ]
  },
  {
   "cell_type": "code",
   "execution_count": 18,
   "metadata": {},
   "outputs": [],
   "source": [
    "from math import sin, cos, sqrt, atan2, radians\n",
    "dl=[]\n",
    "# approximate radius of earth in km\n",
    "R = 6378\n",
    "for i in range(0,len(df.Id)):\n",
    "    lat1 = radians(df.iloc[i,6])\n",
    "    lon1 = radians(df.iloc[i,7])\n",
    "    lat2 = radians(df.iloc[i,8])\n",
    "    lon2 = radians(df.iloc[i,9])\n",
    "\n",
    "    dlon = lon2 - lon1\n",
    "    dlat = lat2 - lat1\n",
    "\n",
    "    a = sin(dlat / 2)**2 + cos(lat1) * cos(lat2) * sin(dlon / 2)**2\n",
    "    c = 2 * atan2(sqrt(a), sqrt(1 - a))\n",
    "\n",
    "    distance = round((R * c),3)\n",
    "    dl.append(distance)\n",
    "    #print(\"Result:\", distance)\n"
   ]
  },
  {
   "cell_type": "markdown",
   "metadata": {},
   "source": [
    "- calculating the corresponding distance using the latitudes and longitudes\n",
    "- compairing the accuired list with the data in our dataframe by rounding it to 3 decimal places.\n",
    "- replacing the wrongly entered data"
   ]
  },
  {
   "cell_type": "code",
   "execution_count": 19,
   "metadata": {},
   "outputs": [
    {
     "data": {
      "text/plain": [
       "15"
      ]
     },
     "execution_count": 19,
     "metadata": {},
     "output_type": "execute_result"
    }
   ],
   "source": [
    "c=0\n",
    "for i in range (0,len(df.Id)):\n",
    "    if round(df.iloc[i,10],3)!=dl[i]:\n",
    "        #print(str(i)+'-'+str(round(df.iloc[i,10],3))+'-'+str(dl[i]))\n",
    "        df.iloc[i,10]=dl[i]\n",
    "        c+=1\n",
    "c"
   ]
  },
  {
   "cell_type": "markdown",
   "metadata": {},
   "source": [
    "- we found 15 mistakes in the given dataset and corrected them"
   ]
  },
  {
   "cell_type": "markdown",
   "metadata": {},
   "source": [
    "### Origin Region and Destination Region \n",
    "- The origin region and destination region are clustered according to the nearest latitudes and longitudes\n",
    "- The mean of the region is the centroid latitude longitude\n",
    "- I used the k Nearest Neighbours clustering algorithm to determine the given regions are correctly determined "
   ]
  },
  {
   "cell_type": "markdown",
   "metadata": {},
   "source": [
    "- checking the details of each column "
   ]
  },
  {
   "cell_type": "code",
   "execution_count": 20,
   "metadata": {},
   "outputs": [
    {
     "data": {
      "text/plain": [
       "count    35378.000000\n",
       "mean        24.013907\n",
       "std         13.567380\n",
       "min          1.000000\n",
       "25%         12.000000\n",
       "50%         24.000000\n",
       "75%         36.000000\n",
       "max         47.000000\n",
       "Name: Origin Region, dtype: float64"
      ]
     },
     "execution_count": 20,
     "metadata": {},
     "output_type": "execute_result"
    }
   ],
   "source": [
    "df[\"Origin Region\"].describe()"
   ]
  },
  {
   "cell_type": "code",
   "execution_count": 21,
   "metadata": {},
   "outputs": [
    {
     "data": {
      "text/plain": [
       "count    35378.000000\n",
       "mean        23.984001\n",
       "std         13.563029\n",
       "min          1.000000\n",
       "25%         12.000000\n",
       "50%         24.000000\n",
       "75%         36.000000\n",
       "max         47.000000\n",
       "Name: Destination Region, dtype: float64"
      ]
     },
     "execution_count": 21,
     "metadata": {},
     "output_type": "execute_result"
    }
   ],
   "source": [
    "df[\"Destination Region\"].describe()"
   ]
  },
  {
   "cell_type": "markdown",
   "metadata": {},
   "source": [
    "- From above eploration we colclude "
   ]
  },
  {
   "cell_type": "markdown",
   "metadata": {},
   "source": [
    "- Using the n KNN clustering algorithm on the basis of origin latitude,longitude , with respect to origin region. \n",
    "- similarly doing the KNN clustering with the Destination region.\n",
    "- source(www.stackoverflow.com)"
   ]
  },
  {
   "cell_type": "code",
   "execution_count": 22,
   "metadata": {},
   "outputs": [
    {
     "name": "stdout",
     "output_type": "stream",
     "text": [
      "corrections in Origin Region 30\n"
     ]
    }
   ],
   "source": [
    "from sklearn.neighbors import KNeighborsClassifier\n",
    "ndf=df[(df[\"Origin Region\"].isna() == False)]\n",
    "f1=ndf[[\"Origin Latitude\",\"Origin Longitude\"]]\n",
    "f2=ndf[\"Origin Region\"]\n",
    "f2.values.reshape(-1,1)\n",
    "cl = KNeighborsClassifier()\n",
    "cl.fit(f1,f2)\n",
    "p = cl.predict(df[[\"Origin Latitude\",\"Origin Longitude\"]])\n",
    "cw=0\n",
    "for i in df.index:\n",
    "    #print(1)\n",
    "    #print(df.iloc[i][\"Predicted\"])\n",
    "    #print(df.iloc[i]['Origin Region'])\n",
    "    if p[i] != df.iloc[i]['Origin Region']:\n",
    "        df.at[i,\"Origin Region\"]= p[i]\n",
    "        #print(df.iloc[i][\"Origin Region\"],p[i])\n",
    "        cw+=1\n",
    "        \n",
    "print(\"corrections in Origin Region\",cw)      "
   ]
  },
  {
   "cell_type": "code",
   "execution_count": 23,
   "metadata": {},
   "outputs": [
    {
     "name": "stdout",
     "output_type": "stream",
     "text": [
      "corrections in Destination Region 29\n"
     ]
    }
   ],
   "source": [
    "from sklearn.neighbors import KNeighborsClassifier\n",
    "ndf=df[(df[\"Destination Region\"].isna() == False)]\n",
    "f1=ndf[[\"Destination Latitude\",\"Destination Longitude\"]]\n",
    "f2=ndf[\"Destination Region\"]\n",
    "f2.values.reshape(-1,1)\n",
    "cl = KNeighborsClassifier()\n",
    "cl.fit(f1,f2)\n",
    "p = cl.predict(df[[\"Destination Latitude\",\"Destination Longitude\"]])\n",
    "cw=0\n",
    "for i in df.index:\n",
    "    #print(1)\n",
    "    #print(df.iloc[i][\"Predicted\"])\n",
    "    #print(df.iloc[i]['Destination Region'])\n",
    "    if p[i] != df.iloc[i]['Destination Region']:\n",
    "        #print(df.iloc[i][\"Destination Region\"],p[i])\n",
    "        df.at[i,\"Destination Region\"]= p[i]\n",
    "        #print(df.iloc[i][\"Destination Region\"],p[i])\n",
    "        cw+=1\n",
    "        \n",
    "print(\"corrections in Destination Region\",cw) "
   ]
  },
  {
   "cell_type": "markdown",
   "metadata": {},
   "source": [
    "- The corrected values in Origin Region are 30 and Destination Region are 29 . which may me nan values or errors while entering the database."
   ]
  },
  {
   "cell_type": "markdown",
   "metadata": {},
   "source": [
    "### Travel Time and Delivery Time "
   ]
  },
  {
   "cell_type": "markdown",
   "metadata": {},
   "source": [
    "- checking for null values in Travel Time "
   ]
  },
  {
   "cell_type": "code",
   "execution_count": 24,
   "metadata": {},
   "outputs": [
    {
     "data": {
      "text/plain": [
       "40"
      ]
     },
     "execution_count": 24,
     "metadata": {},
     "output_type": "execute_result"
    }
   ],
   "source": [
    "nc=0\n",
    "x = []\n",
    "for i in range (len(df.Id)):\n",
    "    if pa.isna(df[\"Travel Time\"][i]):\n",
    "        nc+=1\n",
    "        x.append(i)\n",
    "nc"
   ]
  },
  {
   "cell_type": "markdown",
   "metadata": {},
   "source": [
    "- Assuming the Departure Time to be  correct entity we can calculate the Travel Time by subrtacting the Departure Time and Delivery Time\n",
    "- created a new DataFrame as temp_df\n",
    "- then the traveled time is added to the Delivery Time to make sure the time is correct."
   ]
  },
  {
   "cell_type": "code",
   "execution_count": 25,
   "metadata": {},
   "outputs": [],
   "source": [
    "temp_df = df[['Drone Type', 'Departure Time', 'Travel Time', 'Delivery Time']]\n",
    "len(temp_df)\n",
    "temporary_tt=[]\n",
    "from datetime import datetime, date\n",
    "for i in range(0,len(temp_df)):\n",
    "    duration = datetime.combine(date.min, datetime.strptime(temp_df.iloc[i]['Delivery Time'],\"%H:%M:%S\").time()) - datetime.combine(date.min, datetime.strptime(temp_df.iloc[i]['Departure Time'],\"%H:%M:%S\").time())\n",
    "    if duration.total_seconds()/60<=0:\n",
    "        temporary_tt.append(duration.total_seconds()/60 + 1440)\n",
    "    else:\n",
    "        temporary_tt.append(duration.total_seconds()/60)"
   ]
  },
  {
   "cell_type": "markdown",
   "metadata": {},
   "source": [
    "- checking the invalid indexes using the excel and appending into the lists\n",
    "- after iteration i found the indexes that needed swapping"
   ]
  },
  {
   "cell_type": "code",
   "execution_count": 26,
   "metadata": {},
   "outputs": [],
   "source": [
    "inc_err = [496, 2538, 4585, 6631, 8199, 8677, 8680, 10999, 12774, 14811, 14813, 20958, 22998, 23008, 25073, 25078, 31143, 33266, 35300, 35315]"
   ]
  },
  {
   "cell_type": "markdown",
   "metadata": {},
   "source": [
    "- these were the valuse those needed swapping "
   ]
  },
  {
   "cell_type": "code",
   "execution_count": 27,
   "metadata": {},
   "outputs": [],
   "source": [
    "swap_err = [1151, 2185, 2822, 6914, 6937, 6956, 6969, 9347, 11018, 13089, 13090, 13097, 13119, 15145, 15155, 15156, 16256, 17164, 17170, 17176, 19235, 19238, 19262, 19935, 19936, 23681, 25045, 25352, 25366, 27453, 27624, 28458, 29460, 31484, 32212, 33238, 33549, 33575, 33592, 35293]"
   ]
  },
  {
   "cell_type": "markdown",
   "metadata": {},
   "source": [
    "- swapping the lists where the departure time should be delivery time "
   ]
  },
  {
   "cell_type": "code",
   "execution_count": 28,
   "metadata": {},
   "outputs": [],
   "source": [
    "for i in swap_err:\n",
    "    temp = df[\"Departure Time\"][i]\n",
    "    df.iloc[i, df.columns.get_loc('Delivery Time')] = temp \n",
    "    df.iloc[i, df.columns.get_loc('Departure Time')] = df[\"Delivery Time\"][i] "
   ]
  },
  {
   "cell_type": "markdown",
   "metadata": {},
   "source": [
    "- where the data is given incorrect changing the values"
   ]
  },
  {
   "cell_type": "code",
   "execution_count": 29,
   "metadata": {},
   "outputs": [],
   "source": [
    "for i in inc_err:\n",
    "    temp = temporary_tt[i]\n",
    "    df.iloc[i, df.columns.get_loc('Travel Time')] = temp"
   ]
  },
  {
   "cell_type": "code",
   "execution_count": 30,
   "metadata": {},
   "outputs": [],
   "source": [
    "for i in x:\n",
    "    temp = temporary_tt[i]\n",
    "    df.iloc[i, df.columns.get_loc('Travel Time')] = temp"
   ]
  },
  {
   "cell_type": "markdown",
   "metadata": {},
   "source": [
    "- checking for nulls"
   ]
  },
  {
   "cell_type": "code",
   "execution_count": 31,
   "metadata": {},
   "outputs": [],
   "source": [
    "for m in temporary_tt:\n",
    "    if pa.isna(m):\n",
    "        print(m)"
   ]
  },
  {
   "cell_type": "markdown",
   "metadata": {},
   "source": [
    "- no nulls found\n",
    "-  changing the values in the dataframe "
   ]
  },
  {
   "cell_type": "code",
   "execution_count": 32,
   "metadata": {},
   "outputs": [],
   "source": [
    "#replacing with the main dataframe \n",
    "df[\"Travel Time\"]=temp_df[\"Travel Time\"]\n",
    "df['Delivery Time']=temp_df[\"Delivery Time\"]"
   ]
  },
  {
   "cell_type": "markdown",
   "metadata": {},
   "source": [
    "- changing the null values in the Travel Time of the dataframe"
   ]
  },
  {
   "cell_type": "code",
   "execution_count": 33,
   "metadata": {},
   "outputs": [
    {
     "name": "stderr",
     "output_type": "stream",
     "text": [
      "C:\\Users\\vipul\\Anaconda3\\lib\\site-packages\\ipykernel_launcher.py:3: SettingWithCopyWarning: \n",
      "A value is trying to be set on a copy of a slice from a DataFrame\n",
      "\n",
      "See the caveats in the documentation: http://pandas.pydata.org/pandas-docs/stable/indexing.html#indexing-view-versus-copy\n",
      "  This is separate from the ipykernel package so we can avoid doing imports until\n"
     ]
    }
   ],
   "source": [
    "for i in range (len(df.Id)):\n",
    "    if pa.isna(df[\"Travel Time\"][i]):\n",
    "        df[\"Travel Time\"][i]=temporary_tt[i]\n",
    "    "
   ]
  },
  {
   "cell_type": "markdown",
   "metadata": {},
   "source": [
    "## Drone Type calculation\n",
    "\n",
    "- starting with collecting the journey distance and travel time for each type of drone."
   ]
  },
  {
   "cell_type": "code",
   "execution_count": 34,
   "metadata": {},
   "outputs": [],
   "source": [
    "#defining a function for calculating mean\n",
    "def mean(lst): \n",
    "    return sum(lst) / len(lst) "
   ]
  },
  {
   "cell_type": "code",
   "execution_count": 35,
   "metadata": {},
   "outputs": [],
   "source": [
    "di1=df[df[\"Drone Type\"] == 1][\"Journey Distance\"]\n",
    "di1=list(di1)\n",
    "#print(di1)\n",
    "ti1=df[df[\"Drone Type\"] == 1][\"Travel Time\"]\n",
    "ti1=list(ti1)\n",
    "#print(ti1)\n",
    "di2=df[df[\"Drone Type\"] == 2][\"Journey Distance\"]\n",
    "di2=list(di2)\n",
    "#print(di1)\n",
    "ti2=df[df[\"Drone Type\"] == 2][\"Travel Time\"]\n",
    "ti2=list(ti2)\n",
    "#print(ti)\n",
    "di3=df[df[\"Drone Type\"] == 3][\"Journey Distance\"]\n",
    "di3=list(di3)\n",
    "#print(di1)\n",
    "ti3=df[df[\"Drone Type\"] == 3][\"Travel Time\"]\n",
    "ti3=list(ti3)\n",
    "#print(ti)\n"
   ]
  },
  {
   "cell_type": "markdown",
   "metadata": {},
   "source": [
    "- calculating the on route time by calculating the falue for the random samples , as calculating it for all the samples would take much more time than required\n",
    "- using the formula given by the lecturar we calculate the on-route speed for each drone and appending it to a list respectively"
   ]
  },
  {
   "cell_type": "code",
   "execution_count": 36,
   "metadata": {},
   "outputs": [
    {
     "data": {
      "text/plain": [
       "(60.001654798546895, 62.00218646249173, 65.99378795588228)"
      ]
     },
     "execution_count": 36,
     "metadata": {},
     "output_type": "execute_result"
    }
   ],
   "source": [
    "r_couples = [[2,100],[40,4001], [1001,2500], [306,1023]]\n",
    "import random\n",
    "tn1,tn2,tn3=[],[],[]\n",
    "for rand in r_couples:\n",
    "    z1 = ((di1[rand[0]]- di1[rand[1]])/(ti1[rand[0]]- ti1[rand[1]]))*60\n",
    "    tn1.append(z1)\n",
    "\n",
    "for rand in r_couples:\n",
    "    z2 = ((di2[rand[0]]- di2[rand[1]])/(ti2[rand[0]]- ti2[rand[1]]))*60\n",
    "    tn2.append(z2)\n",
    "    \n",
    "for rand in r_couples:\n",
    "    z3 = ((di3[rand[0]]- di3[rand[1]])/(ti3[rand[0]]- ti3[rand[1]]))*60\n",
    "    tn3.append(z3)\n",
    "m_z1=mean(tn1)\n",
    "m_z2 =mean(tn2)\n",
    "m_z3=mean(tn3)\n",
    "m_z1,m_z2,m_z3"
   ]
  },
  {
   "cell_type": "markdown",
   "metadata": {},
   "source": [
    "- as we can see we get avg speed around 60 for drone 1 , 62 for drone 2 , and 66 for drone 3\n",
    "### similarly calculating Beta values. ie takeoff and landing speed\n",
    "- using the same formula we can calculate beta for each drone and appending it to a list"
   ]
  },
  {
   "cell_type": "code",
   "execution_count": 37,
   "metadata": {},
   "outputs": [],
   "source": [
    "be1,be2,be3=[],[],[]\n",
    "for i in range(len(di1)):\n",
    "    b1=(((ti1[i]-10)*(m_z1/60))-di1[i])*(-12)\n",
    "    be1.append(b1)\n",
    "for i in range(len(di2)):\n",
    "    b2=(((ti2[i]-10)*(m_z2/60))-di2[i])*(-12)\n",
    "    be2.append(b2)    \n",
    "for i in range(len(di3)):\n",
    "    b3=(((ti3[i]-10)*(m_z3/60))-di3[i])*(-12)\n",
    "    be3.append(b3)"
   ]
  },
  {
   "cell_type": "code",
   "execution_count": 38,
   "metadata": {},
   "outputs": [
    {
     "data": {
      "text/plain": [
       "(41, 43, 45)"
      ]
     },
     "execution_count": 38,
     "metadata": {},
     "output_type": "execute_result"
    }
   ],
   "source": [
    "r_be1 = []\n",
    "for m in range(10):\n",
    "    r_be1.append(be1[m])\n",
    "x = 0\n",
    "tot=0\n",
    "for p in r_be1:\n",
    "    if not(pa.isna(p)):\n",
    "        x += p\n",
    "        tot+=1\n",
    "bett1=round(x/tot)\n",
    "#bett1=41\n",
    "#be1\n",
    "r_be2 = []\n",
    "for m in range(10):\n",
    "    r_be2.append(be2[m])\n",
    "x = 0\n",
    "tot = 0\n",
    "for p in r_be2:\n",
    "    if not(pa.isna(p)):\n",
    "        x += p\n",
    "        tot+=1\n",
    "bett2=round(x/tot)\n",
    "#bett2=43\n",
    "#be2\n",
    "r_be3 = []\n",
    "for m in range(10):\n",
    "    r_be3.append(be3[m])\n",
    "x = 0\n",
    "tot=0\n",
    "for p in r_be3:\n",
    "    if not(pa.isna(p)):\n",
    "        x += p\n",
    "        tot+=1\n",
    "bett3=round(x/tot)\n",
    "#bett3=45\n",
    "bett1,bett2,bett3"
   ]
  },
  {
   "cell_type": "markdown",
   "metadata": {},
   "source": [
    "- we can see that we get beta for drone 1 =41 , drone 2 =43, drone 3 = 45"
   ]
  },
  {
   "cell_type": "markdown",
   "metadata": {},
   "source": [
    "- now calculating the travel time with respect to each drone \n",
    "- using the given speed distance equation i calculated Teavel time for each drone \n",
    "- appending all the calculated time in list 'tt'"
   ]
  },
  {
   "cell_type": "code",
   "execution_count": 39,
   "metadata": {},
   "outputs": [
    {
     "data": {
      "text/plain": [
       "35388"
      ]
     },
     "execution_count": 39,
     "metadata": {},
     "output_type": "execute_result"
    }
   ],
   "source": [
    "#checking Drone 1 travel time\n",
    "tt,tt1,tt2,tt3,nul=[],[],[],[],[]\n",
    "drl=[]\n",
    "drone=0\n",
    "for i in range (len(df.Id)):\n",
    "    if df['Drone Type'][i]==1:\n",
    "        t1=10+(((df['Journey Distance'][i]-(bett1/12))/m_z1)*60)\n",
    "        tt1.append(t1)\n",
    "        tt.append(t1)\n",
    "    #d1d=round(t1,2)-round(df[\"Travel Time\"][i],2)\n",
    "    if df['Drone Type'][i]==2:\n",
    "        t2=10+(((df['Journey Distance'][i]-(bett2)/12)/m_z2)*60)\n",
    "        tt2.append(t2)\n",
    "        tt.append(t2)\n",
    "    #d2d=round(t2,2)-round(df[\"Travel Time\"][i],2)\n",
    "    if df['Drone Type'][i]==3:\n",
    "        t3=10+(((df['Journey Distance'][i]-(bett3)/12)/m_z3)*60)\n",
    "        tt3.append(t3)\n",
    "        tt.append(t3)\n",
    "    #d3d=round(t3,2)-round(df[\"Travel Time\"][i],2)\n",
    "    if pa.isna(df['Drone Type'][i]):\n",
    "        nul.append(i)\n",
    "        tt.append(df[\"Travel Time\"][i])\n",
    "    \n",
    "len(tt)"
   ]
  },
  {
   "cell_type": "markdown",
   "metadata": {},
   "source": [
    "- Verifying Drone Type \n",
    "- using the calculated trave time for each drone\n",
    "- calculating travel time "
   ]
  },
  {
   "cell_type": "markdown",
   "metadata": {},
   "source": [
    "- changing the incorrect time value"
   ]
  },
  {
   "cell_type": "code",
   "execution_count": 40,
   "metadata": {},
   "outputs": [],
   "source": [
    "given_time = df[\"Travel Time\"] #copying values in a dataframe\n",
    "given_drone = df[\"Drone Type\"]\n"
   ]
  },
  {
   "cell_type": "code",
   "execution_count": 41,
   "metadata": {},
   "outputs": [],
   "source": [
    "new_drone=[] #new list"
   ]
  },
  {
   "cell_type": "markdown",
   "metadata": {},
   "source": [
    "- calculating travelling time for each type of drone \n",
    "- appending each calculated time into a list\n",
    "- created a function to get the nearest value to the given number\n",
    "- comparing the nearest time with the given time and tolerating the value till 0.5 minutes\n",
    "- appending into a lise explicitely"
   ]
  },
  {
   "cell_type": "code",
   "execution_count": 42,
   "metadata": {},
   "outputs": [
    {
     "name": "stderr",
     "output_type": "stream",
     "text": [
      "C:\\Users\\vipul\\Anaconda3\\lib\\site-packages\\ipykernel_launcher.py:32: SettingWithCopyWarning: \n",
      "A value is trying to be set on a copy of a slice from a DataFrame\n",
      "\n",
      "See the caveats in the documentation: http://pandas.pydata.org/pandas-docs/stable/indexing.html#indexing-view-versus-copy\n",
      "C:\\Users\\vipul\\Anaconda3\\lib\\site-packages\\ipykernel_launcher.py:20: SettingWithCopyWarning: \n",
      "A value is trying to be set on a copy of a slice from a DataFrame\n",
      "\n",
      "See the caveats in the documentation: http://pandas.pydata.org/pandas-docs/stable/indexing.html#indexing-view-versus-copy\n",
      "C:\\Users\\vipul\\Anaconda3\\lib\\site-packages\\ipykernel_launcher.py:24: SettingWithCopyWarning: \n",
      "A value is trying to be set on a copy of a slice from a DataFrame\n",
      "\n",
      "See the caveats in the documentation: http://pandas.pydata.org/pandas-docs/stable/indexing.html#indexing-view-versus-copy\n"
     ]
    },
    {
     "data": {
      "text/plain": [
       "(54, 10)"
      ]
     },
     "execution_count": 42,
     "metadata": {},
     "output_type": "execute_result"
    }
   ],
   "source": [
    "drone=[] \n",
    "d=[]\n",
    "nnc=0 #not null counter\n",
    "nc=0  #null counter\n",
    "ind=0\n",
    "given_time = df[\"Travel Time\"]\n",
    "\n",
    "for i in range (len(df.Id)):\n",
    "    t1=(10+(((df['Journey Distance'][i]-(bett1/12))/m_z1)*60))\n",
    "    #print(t1)\n",
    "    t2=(10+(((df['Journey Distance'][i]-(bett2/12))/m_z2)*60))\n",
    "    t3=(10+(((df['Journey Distance'][i]-(bett3/12))/m_z3)*60))\n",
    "    asl=[t1,t2,t3]\n",
    "    takeClosest = lambda num,collection:min(collection,key=lambda x:abs(x-num))\n",
    "    sample=takeClosest(df['Travel Time'][i],asl)\n",
    "    sample=float(sample)\n",
    "    ind=(asl.index(sample))\n",
    "    if df['Drone Type'][i]==1 and (ind+1)!=1 and abs(sample-given_time[i])<2:\n",
    "        nnc+=1\n",
    "        df['Drone Type'][i]=1.0\n",
    "        #new_drone.append(1.0)\n",
    "    elif df['Drone Type'][i]==2 and (ind+1)!=2 and abs(sample-given_time[i])<2:\n",
    "        nnc+=1\n",
    "        df['Drone Type'][i]=2.0\n",
    "        #new_drone.append(2.0)\n",
    "    elif df['Drone Type'][i]==3 and (ind+1)!=3 and abs(sample-given_time[i])<2:                              #sample != t3:\n",
    "        nnc+=1\n",
    "        df['Drone Type'][i]=3.0\n",
    "        #new_drone.append(3.0)\n",
    "    elif pa.isna( df['Drone Type'][i]):\n",
    "        nc+=1 \n",
    "        df['Drone Type'][i]=ind+1\n",
    "        #new_drone.append(ind+1)\n",
    "        '''elif df['Drone Type'][i]:\n",
    "        new_drone.append(df['Drone Type'][i])'''\n",
    "        \n",
    "#len(drone) ,nc,nnc\n",
    "nnc,nc"
   ]
  },
  {
   "cell_type": "markdown",
   "metadata": {},
   "source": [
    "- we found 50 errors and 10 null values which were corrected"
   ]
  },
  {
   "cell_type": "markdown",
   "metadata": {},
   "source": [
    "- removing the duplicates with respect to each and every value "
   ]
  },
  {
   "cell_type": "code",
   "execution_count": 43,
   "metadata": {},
   "outputs": [],
   "source": [
    "df = df.drop_duplicates(subset = ['Drone Type', 'Post Type', 'Package Weight', 'Origin Region', 'Destination Region', 'Origin Latitude', 'Origin Longitude', 'Destination Latitude', 'Destination Latitude', 'Journey Distance', 'Departure Date', 'Departure Time', 'Travel Time', 'Delivery Time', 'Delivery Fare'])\n",
    "\n",
    "df = df.drop_duplicates(keep=False, inplace=False)"
   ]
  },
  {
   "cell_type": "markdown",
   "metadata": {},
   "source": [
    "### Predicting the Delivery Fare"
   ]
  },
  {
   "cell_type": "markdown",
   "metadata": {},
   "source": [
    "- importing the sklearn libraries for linear regression, train_test_split,boston and mean_squared_error"
   ]
  },
  {
   "cell_type": "code",
   "execution_count": 44,
   "metadata": {},
   "outputs": [
    {
     "name": "stderr",
     "output_type": "stream",
     "text": [
      "C:\\Users\\vipul\\Anaconda3\\lib\\site-packages\\sklearn\\cross_validation.py:41: DeprecationWarning: This module was deprecated in version 0.18 in favor of the model_selection module into which all the refactored classes and functions are moved. Also note that the interface of the new CV iterators are different from that of this module. This module will be removed in 0.20.\n",
      "  \"This module will be removed in 0.20.\", DeprecationWarning)\n"
     ]
    }
   ],
   "source": [
    "from sklearn.linear_model import LinearRegression\n",
    "from sklearn import linear_model\n",
    "from sklearn.cross_validation import train_test_split\n",
    "from sklearn.datasets import load_boston\n",
    "from sklearn.metrics import mean_squared_error \n"
   ]
  },
  {
   "cell_type": "markdown",
   "metadata": {},
   "source": [
    "- calculating the time span of the delivery, morning , day or night time and assigning them a number 1,2,3 respectively\n",
    "- we calculated that delivery fare depends on the following independent variables\n",
    "- Drone Type\n",
    "- Post Type \n",
    "- Package Weight\n",
    "- Journey Distance\n",
    "- and time catagory of the delivery ie (tr_p)\n",
    "#### calculation of the time catagory of each delivery with respect to departure time "
   ]
  },
  {
   "cell_type": "code",
   "execution_count": 45,
   "metadata": {
    "scrolled": true
   },
   "outputs": [
    {
     "data": {
      "text/plain": [
       "35328"
      ]
     },
     "execution_count": 45,
     "metadata": {},
     "output_type": "execute_result"
    }
   ],
   "source": [
    "typeh=[]\n",
    "for m in df[\"Departure Time\"]:\n",
    "    if re.search(r'\\d+:\\d+:\\d+',m):\n",
    "        vc+=1\n",
    "        h=re.search(r'(\\d+):\\d+:\\d+',m).group(1)\n",
    "        \n",
    "        #print(h)\n",
    "\n",
    "        if int(h) in [6,7,8,9,10,11] :\n",
    "            typeh.append(1)\n",
    "        elif int(h) in [12,13,14,15,16,17,18,19,20]:\n",
    "            typeh.append(2)\n",
    "        elif int(h) in [21,22,23,0,1,2,3,4,5]:\n",
    "            typeh.append(3)           \n",
    "len(typeh)"
   ]
  },
  {
   "cell_type": "markdown",
   "metadata": {},
   "source": [
    "- saving the calculated data into a new column in the same dataframe"
   ]
  },
  {
   "cell_type": "code",
   "execution_count": 46,
   "metadata": {},
   "outputs": [],
   "source": [
    "df[\"tr_p\"]=typeh"
   ]
  },
  {
   "cell_type": "code",
   "execution_count": 47,
   "metadata": {},
   "outputs": [],
   "source": [
    "o_df=pa.read_csv(\"29520762.csv\")#reading original dataframe\n",
    "o_df[\"tr_p\"]=df[\"tr_p\"]# appending column"
   ]
  },
  {
   "cell_type": "markdown",
   "metadata": {},
   "source": [
    "- using multiple linear regression to predict fare and Rsqs\n",
    "- plotting useful data using scatter plot"
   ]
  },
  {
   "cell_type": "code",
   "execution_count": 48,
   "metadata": {
    "scrolled": true
   },
   "outputs": [
    {
     "data": {
      "image/png": "[encoded data removed]",
      "text/plain": [
       "<Figure size 432x288 with 1 Axes>"
      ]
     },
     "metadata": {},
     "output_type": "display_data"
    },
    {
     "data": {
      "image/png": "[encoded data removed]",
      "text/plain": [
       "<Figure size 432x288 with 1 Axes>"
      ]
     },
     "metadata": {},
     "output_type": "display_data"
    }
   ],
   "source": [
    "plt.scatter(df['Delivery Fare'], df['Journey Distance'], color='red')\n",
    "plt.title('delivery rate vs distance', fontsize=14)\n",
    "plt.xlabel('df', fontsize=14)\n",
    "plt.ylabel('jd', fontsize=14)\n",
    "plt.grid(True)\n",
    "plt.show()\n",
    " \n",
    "plt.scatter(df['Delivery Fare'], df['Package Weight'], color='green')\n",
    "plt.title('delivery rate vs package weight', fontsize=14)\n",
    "plt.xlabel('DF', fontsize=14)\n",
    "plt.ylabel('PW', fontsize=14)\n",
    "plt.grid(True)\n",
    "plt.show()"
   ]
  },
  {
   "cell_type": "markdown",
   "metadata": {},
   "source": [
    "- splitting and predicting the values using test_train_split\n",
    "- creating test cases\n",
    "- plotting the graph\n",
    "- references tutorials"
   ]
  },
  {
   "cell_type": "code",
   "execution_count": 49,
   "metadata": {},
   "outputs": [
    {
     "data": {
      "text/plain": [
       "<matplotlib.collections.PathCollection at 0x21a29a1ccc0>"
      ]
     },
     "execution_count": 49,
     "metadata": {},
     "output_type": "execute_result"
    },
    {
     "data": {
      "image/png": "[encoded data removed]",
      "text/plain": [
       "<Figure size 432x288 with 1 Axes>"
      ]
     },
     "metadata": {},
     "output_type": "display_data"
    }
   ],
   "source": [
    "m1 = df[[\"Drone Type\", \"Post Type\", \"Package Weight\", \"Journey Distance\", \"tr_p\", \"Delivery Fare\"]][df[\"Package Weight\"] < 45]\n",
    "m2 = m1.copy()\n",
    "m2.dropna(subset=['Delivery Fare'], axis=0, inplace=True)\n",
    "\n",
    "x_train, x_test, y_train, y_test= train_test_split(m2.iloc[:,:-1], m2.iloc[:,-1:], random_state=200)\n",
    "lm_for_impute = LinearRegression()\n",
    "lm_for_impute.fit(x_train, y_train)\n",
    "lm_for_impute.score(x_test, y_test)\n",
    "y_pred = lm_for_impute.predict(x_test)\n",
    "mean_squared_error(y_test, y_pred)\n",
    "plt.scatter(y_test,y_pred)\n"
   ]
  },
  {
   "cell_type": "code",
   "execution_count": 50,
   "metadata": {},
   "outputs": [
    {
     "name": "stdout",
     "output_type": "stream",
     "text": [
      "R-square: 0.9891080115874541\n"
     ]
    }
   ],
   "source": [
    "print(\"R-square:\",lm_for_impute.score(x_test, y_test))"
   ]
  },
  {
   "cell_type": "code",
   "execution_count": 51,
   "metadata": {},
   "outputs": [],
   "source": [
    "df[[\"Drone Type\", \"Post Type\", \"Package Weight\", \"Journey Distance\", \"tr_p\"]]\n",
    "df[\"fare_lr_val\"] = lm_for_impute.predict(df[[\"Drone Type\", \"Post Type\", \"Package Weight\", \"Journey Distance\", \"tr_p\"]])\n",
    "df[\"res\"] = (df[\"fare_lr_val\"]- df[\"Delivery Fare\"])**2"
   ]
  },
  {
   "cell_type": "code",
   "execution_count": 52,
   "metadata": {},
   "outputs": [],
   "source": [
    "temp_df = df[df[\"Package Weight\"]<45][\"res\"].sort_values(ascending=False).head(40)"
   ]
  },
  {
   "cell_type": "code",
   "execution_count": 53,
   "metadata": {},
   "outputs": [
    {
     "name": "stdout",
     "output_type": "stream",
     "text": [
      "<class 'pandas.core.frame.DataFrame'>\n",
      "Int64Index: 35328 entries, 0 to 35327\n",
      "Data columns (total 19 columns):\n",
      "Id                       35328 non-null object\n",
      "Drone Type               35328 non-null float64\n",
      "Post Type                35328 non-null float64\n",
      "Package Weight           35328 non-null float64\n",
      "Origin Region            35328 non-null float64\n",
      "Destination Region       35328 non-null float64\n",
      "Origin Latitude          35328 non-null float64\n",
      "Origin Longitude         35328 non-null float64\n",
      "Destination Latitude     35328 non-null float64\n",
      "Destination Longitude    35328 non-null float64\n",
      "Journey Distance         35328 non-null float64\n",
      "Departure Date           35328 non-null object\n",
      "Departure Time           35328 non-null object\n",
      "Travel Time              35328 non-null float64\n",
      "Delivery Time            35328 non-null object\n",
      "Delivery Fare            35298 non-null float64\n",
      "tr_p                     35328 non-null int64\n",
      "fare_lr_val              35328 non-null float64\n",
      "res                      35298 non-null float64\n",
      "dtypes: float64(14), int64(1), object(4)\n",
      "memory usage: 6.6+ MB\n"
     ]
    }
   ],
   "source": [
    "df.info()"
   ]
  },
  {
   "cell_type": "code",
   "execution_count": 54,
   "metadata": {},
   "outputs": [],
   "source": [
    "inds =df[df['Delivery Fare'].isnull()].index.tolist()"
   ]
  },
  {
   "cell_type": "code",
   "execution_count": 55,
   "metadata": {},
   "outputs": [
    {
     "data": {
      "text/plain": [
       "30"
      ]
     },
     "execution_count": 55,
     "metadata": {},
     "output_type": "execute_result"
    }
   ],
   "source": [
    "len(inds)"
   ]
  },
  {
   "cell_type": "code",
   "execution_count": 56,
   "metadata": {},
   "outputs": [
    {
     "name": "stderr",
     "output_type": "stream",
     "text": [
      "C:\\Users\\vipul\\Anaconda3\\lib\\site-packages\\ipykernel_launcher.py:4: SettingWithCopyWarning: \n",
      "A value is trying to be set on a copy of a slice from a DataFrame\n",
      "\n",
      "See the caveats in the documentation: http://pandas.pydata.org/pandas-docs/stable/indexing.html#indexing-view-versus-copy\n",
      "  after removing the cwd from sys.path.\n"
     ]
    },
    {
     "data": {
      "text/plain": [
       "30"
      ]
     },
     "execution_count": 56,
     "metadata": {},
     "output_type": "execute_result"
    }
   ],
   "source": [
    "co=0\n",
    "for i in inds:\n",
    "    co+=1\n",
    "    df[\"Delivery Fare\"][i]=df['fare_lr_val'][i]\n",
    "co    "
   ]
  },
  {
   "cell_type": "markdown",
   "metadata": {},
   "source": [
    "- again checking for nulls"
   ]
  },
  {
   "cell_type": "code",
   "execution_count": 57,
   "metadata": {},
   "outputs": [
    {
     "data": {
      "text/plain": [
       "0"
      ]
     },
     "execution_count": 57,
     "metadata": {},
     "output_type": "execute_result"
    }
   ],
   "source": [
    "inds =df[df['Delivery Fare'].isnull()].index.tolist()\n",
    "len(inds)"
   ]
  },
  {
   "cell_type": "markdown",
   "metadata": {},
   "source": [
    "\n",
    "- Dropping the unnecessiary columns "
   ]
  },
  {
   "cell_type": "code",
   "execution_count": 58,
   "metadata": {},
   "outputs": [],
   "source": [
    "df.drop(['tr_p', 'fare_lr_val','res'], axis=1, inplace=True) #dropping unnecessiary data"
   ]
  },
  {
   "cell_type": "code",
   "execution_count": 59,
   "metadata": {},
   "outputs": [
    {
     "data": {
      "text/html": [
       "<div>\n",
       "<style scoped>\n",
       "    .dataframe tbody tr th:only-of-type {\n",
       "        vertical-align: middle;\n",
       "    }\n",
       "\n",
       "    .dataframe tbody tr th {\n",
       "        vertical-align: top;\n",
       "    }\n",
       "\n",
       "    .dataframe thead th {\n",
       "        text-align: right;\n",
       "    }\n",
       "</style>\n",
       "<table border=\"1\" class=\"dataframe\">\n",
       "  <thead>\n",
       "    <tr style=\"text-align: right;\">\n",
       "      <th></th>\n",
       "      <th>Id</th>\n",
       "      <th>Drone Type</th>\n",
       "      <th>Post Type</th>\n",
       "      <th>Package Weight</th>\n",
       "      <th>Origin Region</th>\n",
       "      <th>Destination Region</th>\n",
       "      <th>Origin Latitude</th>\n",
       "      <th>Origin Longitude</th>\n",
       "      <th>Destination Latitude</th>\n",
       "      <th>Destination Longitude</th>\n",
       "      <th>Journey Distance</th>\n",
       "      <th>Departure Date</th>\n",
       "      <th>Departure Time</th>\n",
       "      <th>Travel Time</th>\n",
       "      <th>Delivery Time</th>\n",
       "      <th>Delivery Fare</th>\n",
       "    </tr>\n",
       "  </thead>\n",
       "  <tbody>\n",
       "    <tr>\n",
       "      <th>0</th>\n",
       "      <td>ID1796901771</td>\n",
       "      <td>2.0</td>\n",
       "      <td>0.0</td>\n",
       "      <td>23.969</td>\n",
       "      <td>9.0</td>\n",
       "      <td>28.0</td>\n",
       "      <td>-38.719660</td>\n",
       "      <td>145.672977</td>\n",
       "      <td>-38.479449</td>\n",
       "      <td>143.707491</td>\n",
       "      <td>173.066</td>\n",
       "      <td>2018-06-20</td>\n",
       "      <td>02:59:35</td>\n",
       "      <td>174.02</td>\n",
       "      <td>5:53:36</td>\n",
       "      <td>163.06</td>\n",
       "    </tr>\n",
       "    <tr>\n",
       "      <th>1</th>\n",
       "      <td>ID1611406588</td>\n",
       "      <td>2.0</td>\n",
       "      <td>0.0</td>\n",
       "      <td>14.066</td>\n",
       "      <td>10.0</td>\n",
       "      <td>16.0</td>\n",
       "      <td>-38.360618</td>\n",
       "      <td>147.066718</td>\n",
       "      <td>-37.818610</td>\n",
       "      <td>144.312552</td>\n",
       "      <td>248.715</td>\n",
       "      <td>2018-05-05</td>\n",
       "      <td>22:19:10</td>\n",
       "      <td>247.22</td>\n",
       "      <td>2:26:23</td>\n",
       "      <td>172.89</td>\n",
       "    </tr>\n",
       "    <tr>\n",
       "      <th>2</th>\n",
       "      <td>ID5941688071</td>\n",
       "      <td>2.0</td>\n",
       "      <td>1.0</td>\n",
       "      <td>6.601</td>\n",
       "      <td>7.0</td>\n",
       "      <td>19.0</td>\n",
       "      <td>-38.057591</td>\n",
       "      <td>145.139777</td>\n",
       "      <td>-36.921816</td>\n",
       "      <td>144.668385</td>\n",
       "      <td>133.110</td>\n",
       "      <td>2018-04-05</td>\n",
       "      <td>18:59:17</td>\n",
       "      <td>135.35</td>\n",
       "      <td>21:14:37</td>\n",
       "      <td>175.04</td>\n",
       "    </tr>\n",
       "    <tr>\n",
       "      <th>3</th>\n",
       "      <td>ID1132498967</td>\n",
       "      <td>3.0</td>\n",
       "      <td>0.0</td>\n",
       "      <td>19.985</td>\n",
       "      <td>13.0</td>\n",
       "      <td>14.0</td>\n",
       "      <td>-38.856844</td>\n",
       "      <td>144.203487</td>\n",
       "      <td>-38.023494</td>\n",
       "      <td>148.373488</td>\n",
       "      <td>375.191</td>\n",
       "      <td>2018-07-09</td>\n",
       "      <td>18:25:50</td>\n",
       "      <td>347.67</td>\n",
       "      <td>0:13:30</td>\n",
       "      <td>199.73</td>\n",
       "    </tr>\n",
       "    <tr>\n",
       "      <th>4</th>\n",
       "      <td>ID1355699258</td>\n",
       "      <td>3.0</td>\n",
       "      <td>0.0</td>\n",
       "      <td>39.859</td>\n",
       "      <td>7.0</td>\n",
       "      <td>2.0</td>\n",
       "      <td>-38.145103</td>\n",
       "      <td>145.106314</td>\n",
       "      <td>-37.998439</td>\n",
       "      <td>147.239113</td>\n",
       "      <td>187.611</td>\n",
       "      <td>2018-01-21</td>\n",
       "      <td>21:07:41</td>\n",
       "      <td>177.15</td>\n",
       "      <td>0:04:50</td>\n",
       "      <td>200.05</td>\n",
       "    </tr>\n",
       "    <tr>\n",
       "      <th>5</th>\n",
       "      <td>ID1132063008</td>\n",
       "      <td>3.0</td>\n",
       "      <td>0.0</td>\n",
       "      <td>6.438</td>\n",
       "      <td>29.0</td>\n",
       "      <td>46.0</td>\n",
       "      <td>-37.262837</td>\n",
       "      <td>148.136235</td>\n",
       "      <td>-38.570503</td>\n",
       "      <td>146.070017</td>\n",
       "      <td>232.613</td>\n",
       "      <td>2018-05-23</td>\n",
       "      <td>01:46:50</td>\n",
       "      <td>218.06</td>\n",
       "      <td>5:24:53</td>\n",
       "      <td>203.82</td>\n",
       "    </tr>\n",
       "    <tr>\n",
       "      <th>6</th>\n",
       "      <td>ID5650171070</td>\n",
       "      <td>1.0</td>\n",
       "      <td>1.0</td>\n",
       "      <td>34.054</td>\n",
       "      <td>34.0</td>\n",
       "      <td>9.0</td>\n",
       "      <td>-37.102627</td>\n",
       "      <td>143.581752</td>\n",
       "      <td>-38.847602</td>\n",
       "      <td>145.734979</td>\n",
       "      <td>270.964</td>\n",
       "      <td>2018-03-17</td>\n",
       "      <td>15:09:02</td>\n",
       "      <td>277.55</td>\n",
       "      <td>19:46:35</td>\n",
       "      <td>154.48</td>\n",
       "    </tr>\n",
       "    <tr>\n",
       "      <th>7</th>\n",
       "      <td>ID1807672339</td>\n",
       "      <td>1.0</td>\n",
       "      <td>0.0</td>\n",
       "      <td>39.477</td>\n",
       "      <td>33.0</td>\n",
       "      <td>11.0</td>\n",
       "      <td>-37.507885</td>\n",
       "      <td>146.672199</td>\n",
       "      <td>-37.490127</td>\n",
       "      <td>143.349394</td>\n",
       "      <td>293.445</td>\n",
       "      <td>2018-05-27</td>\n",
       "      <td>05:49:39</td>\n",
       "      <td>300.03</td>\n",
       "      <td>10:49:40</td>\n",
       "      <td>136.19</td>\n",
       "    </tr>\n",
       "    <tr>\n",
       "      <th>8</th>\n",
       "      <td>ID1906657399</td>\n",
       "      <td>1.0</td>\n",
       "      <td>0.0</td>\n",
       "      <td>61.913</td>\n",
       "      <td>8.0</td>\n",
       "      <td>32.0</td>\n",
       "      <td>-36.673695</td>\n",
       "      <td>145.373660</td>\n",
       "      <td>-38.905718</td>\n",
       "      <td>143.243050</td>\n",
       "      <td>311.207</td>\n",
       "      <td>2018-04-10</td>\n",
       "      <td>04:50:00</td>\n",
       "      <td>317.79</td>\n",
       "      <td>10:07:47</td>\n",
       "      <td>974.41</td>\n",
       "    </tr>\n",
       "    <tr>\n",
       "      <th>9</th>\n",
       "      <td>ID1413237898</td>\n",
       "      <td>3.0</td>\n",
       "      <td>0.0</td>\n",
       "      <td>23.111</td>\n",
       "      <td>35.0</td>\n",
       "      <td>23.0</td>\n",
       "      <td>-36.725471</td>\n",
       "      <td>146.861510</td>\n",
       "      <td>-37.229275</td>\n",
       "      <td>142.867476</td>\n",
       "      <td>359.554</td>\n",
       "      <td>2018-07-21</td>\n",
       "      <td>16:43:21</td>\n",
       "      <td>333.46</td>\n",
       "      <td>22:16:48</td>\n",
       "      <td>202.81</td>\n",
       "    </tr>\n",
       "    <tr>\n",
       "      <th>10</th>\n",
       "      <td>ID1378638648</td>\n",
       "      <td>2.0</td>\n",
       "      <td>0.0</td>\n",
       "      <td>13.844</td>\n",
       "      <td>7.0</td>\n",
       "      <td>19.0</td>\n",
       "      <td>-38.187374</td>\n",
       "      <td>145.047814</td>\n",
       "      <td>-36.744701</td>\n",
       "      <td>144.484179</td>\n",
       "      <td>168.137</td>\n",
       "      <td>2018-06-15</td>\n",
       "      <td>18:41:01</td>\n",
       "      <td>169.25</td>\n",
       "      <td>21:30:16</td>\n",
       "      <td>148.45</td>\n",
       "    </tr>\n",
       "    <tr>\n",
       "      <th>11</th>\n",
       "      <td>ID1671767679</td>\n",
       "      <td>1.0</td>\n",
       "      <td>0.0</td>\n",
       "      <td>6.924</td>\n",
       "      <td>11.0</td>\n",
       "      <td>14.0</td>\n",
       "      <td>-37.621032</td>\n",
       "      <td>143.319295</td>\n",
       "      <td>-38.218133</td>\n",
       "      <td>148.393417</td>\n",
       "      <td>450.455</td>\n",
       "      <td>2018-04-15</td>\n",
       "      <td>04:16:16</td>\n",
       "      <td>457.04</td>\n",
       "      <td>11:53:18</td>\n",
       "      <td>151.03</td>\n",
       "    </tr>\n",
       "    <tr>\n",
       "      <th>12</th>\n",
       "      <td>ID1312444850</td>\n",
       "      <td>1.0</td>\n",
       "      <td>0.0</td>\n",
       "      <td>29.806</td>\n",
       "      <td>14.0</td>\n",
       "      <td>30.0</td>\n",
       "      <td>-38.149945</td>\n",
       "      <td>148.443199</td>\n",
       "      <td>-37.619801</td>\n",
       "      <td>148.033033</td>\n",
       "      <td>69.146</td>\n",
       "      <td>2018-05-10</td>\n",
       "      <td>15:42:52</td>\n",
       "      <td>75.73</td>\n",
       "      <td>16:58:35</td>\n",
       "      <td>100.85</td>\n",
       "    </tr>\n",
       "    <tr>\n",
       "      <th>13</th>\n",
       "      <td>ID1568552207</td>\n",
       "      <td>1.0</td>\n",
       "      <td>0.0</td>\n",
       "      <td>11.332</td>\n",
       "      <td>38.0</td>\n",
       "      <td>12.0</td>\n",
       "      <td>-37.837861</td>\n",
       "      <td>142.814638</td>\n",
       "      <td>-38.809759</td>\n",
       "      <td>146.457807</td>\n",
       "      <td>336.021</td>\n",
       "      <td>2018-07-23</td>\n",
       "      <td>16:00:29</td>\n",
       "      <td>342.60</td>\n",
       "      <td>21:43:05</td>\n",
       "      <td>120.15</td>\n",
       "    </tr>\n",
       "    <tr>\n",
       "      <th>14</th>\n",
       "      <td>ID5349504287</td>\n",
       "      <td>1.0</td>\n",
       "      <td>1.0</td>\n",
       "      <td>40.722</td>\n",
       "      <td>31.0</td>\n",
       "      <td>31.0</td>\n",
       "      <td>-37.324785</td>\n",
       "      <td>143.734719</td>\n",
       "      <td>-37.456854</td>\n",
       "      <td>143.855885</td>\n",
       "      <td>18.193</td>\n",
       "      <td>2018-02-19</td>\n",
       "      <td>17:59:11</td>\n",
       "      <td>24.78</td>\n",
       "      <td>18:23:57</td>\n",
       "      <td>132.97</td>\n",
       "    </tr>\n",
       "    <tr>\n",
       "      <th>15</th>\n",
       "      <td>ID1431054195</td>\n",
       "      <td>1.0</td>\n",
       "      <td>0.0</td>\n",
       "      <td>18.650</td>\n",
       "      <td>14.0</td>\n",
       "      <td>38.0</td>\n",
       "      <td>-38.027308</td>\n",
       "      <td>148.324857</td>\n",
       "      <td>-37.762244</td>\n",
       "      <td>142.881355</td>\n",
       "      <td>479.024</td>\n",
       "      <td>2018-05-08</td>\n",
       "      <td>18:17:38</td>\n",
       "      <td>485.61</td>\n",
       "      <td>2:23:14</td>\n",
       "      <td>138.39</td>\n",
       "    </tr>\n",
       "    <tr>\n",
       "      <th>16</th>\n",
       "      <td>ID1125658828</td>\n",
       "      <td>2.0</td>\n",
       "      <td>0.0</td>\n",
       "      <td>11.053</td>\n",
       "      <td>26.0</td>\n",
       "      <td>16.0</td>\n",
       "      <td>-38.309944</td>\n",
       "      <td>147.924216</td>\n",
       "      <td>-37.877281</td>\n",
       "      <td>144.278212</td>\n",
       "      <td>323.004</td>\n",
       "      <td>2018-03-07</td>\n",
       "      <td>11:37:22</td>\n",
       "      <td>319.12</td>\n",
       "      <td>16:56:29</td>\n",
       "      <td>142.01</td>\n",
       "    </tr>\n",
       "    <tr>\n",
       "      <th>17</th>\n",
       "      <td>ID1431675804</td>\n",
       "      <td>1.0</td>\n",
       "      <td>0.0</td>\n",
       "      <td>15.420</td>\n",
       "      <td>13.0</td>\n",
       "      <td>45.0</td>\n",
       "      <td>-38.792322</td>\n",
       "      <td>144.172720</td>\n",
       "      <td>-38.999836</td>\n",
       "      <td>145.159656</td>\n",
       "      <td>88.570</td>\n",
       "      <td>2018-03-06</td>\n",
       "      <td>12:20:15</td>\n",
       "      <td>95.15</td>\n",
       "      <td>13:55:24</td>\n",
       "      <td>103.54</td>\n",
       "    </tr>\n",
       "    <tr>\n",
       "      <th>18</th>\n",
       "      <td>ID5686941610</td>\n",
       "      <td>2.0</td>\n",
       "      <td>1.0</td>\n",
       "      <td>34.969</td>\n",
       "      <td>41.0</td>\n",
       "      <td>30.0</td>\n",
       "      <td>-36.558357</td>\n",
       "      <td>143.405843</td>\n",
       "      <td>-37.602100</td>\n",
       "      <td>147.924727</td>\n",
       "      <td>417.742</td>\n",
       "      <td>2018-04-03</td>\n",
       "      <td>14:57:32</td>\n",
       "      <td>410.80</td>\n",
       "      <td>21:48:20</td>\n",
       "      <td>210.21</td>\n",
       "    </tr>\n",
       "    <tr>\n",
       "      <th>19</th>\n",
       "      <td>ID1734810053</td>\n",
       "      <td>1.0</td>\n",
       "      <td>0.0</td>\n",
       "      <td>10.799</td>\n",
       "      <td>38.0</td>\n",
       "      <td>26.0</td>\n",
       "      <td>-37.885958</td>\n",
       "      <td>142.888389</td>\n",
       "      <td>-38.449147</td>\n",
       "      <td>147.935897</td>\n",
       "      <td>446.117</td>\n",
       "      <td>2018-01-17</td>\n",
       "      <td>22:58:10</td>\n",
       "      <td>452.70</td>\n",
       "      <td>6:30:51</td>\n",
       "      <td>151.81</td>\n",
       "    </tr>\n",
       "    <tr>\n",
       "      <th>20</th>\n",
       "      <td>ID5744269953</td>\n",
       "      <td>3.0</td>\n",
       "      <td>1.0</td>\n",
       "      <td>32.571</td>\n",
       "      <td>42.0</td>\n",
       "      <td>24.0</td>\n",
       "      <td>-36.960697</td>\n",
       "      <td>143.909824</td>\n",
       "      <td>-36.966883</td>\n",
       "      <td>147.229386</td>\n",
       "      <td>295.241</td>\n",
       "      <td>2018-06-15</td>\n",
       "      <td>13:26:05</td>\n",
       "      <td>274.99</td>\n",
       "      <td>18:01:04</td>\n",
       "      <td>229.17</td>\n",
       "    </tr>\n",
       "    <tr>\n",
       "      <th>21</th>\n",
       "      <td>ID5734351293</td>\n",
       "      <td>3.0</td>\n",
       "      <td>1.0</td>\n",
       "      <td>11.202</td>\n",
       "      <td>41.0</td>\n",
       "      <td>15.0</td>\n",
       "      <td>-36.533519</td>\n",
       "      <td>143.508496</td>\n",
       "      <td>-36.648420</td>\n",
       "      <td>148.369410</td>\n",
       "      <td>434.599</td>\n",
       "      <td>2018-04-23</td>\n",
       "      <td>04:14:59</td>\n",
       "      <td>401.68</td>\n",
       "      <td>10:56:39</td>\n",
       "      <td>262.14</td>\n",
       "    </tr>\n",
       "    <tr>\n",
       "      <th>22</th>\n",
       "      <td>ID5838455698</td>\n",
       "      <td>1.0</td>\n",
       "      <td>1.0</td>\n",
       "      <td>5.314</td>\n",
       "      <td>20.0</td>\n",
       "      <td>16.0</td>\n",
       "      <td>-36.713502</td>\n",
       "      <td>142.915105</td>\n",
       "      <td>-37.792547</td>\n",
       "      <td>144.349215</td>\n",
       "      <td>174.851</td>\n",
       "      <td>2018-01-02</td>\n",
       "      <td>06:31:51</td>\n",
       "      <td>181.43</td>\n",
       "      <td>9:33:16</td>\n",
       "      <td>128.06</td>\n",
       "    </tr>\n",
       "    <tr>\n",
       "      <th>23</th>\n",
       "      <td>ID1227218421</td>\n",
       "      <td>3.0</td>\n",
       "      <td>0.0</td>\n",
       "      <td>18.463</td>\n",
       "      <td>33.0</td>\n",
       "      <td>29.0</td>\n",
       "      <td>-37.573851</td>\n",
       "      <td>146.623525</td>\n",
       "      <td>-37.295510</td>\n",
       "      <td>148.224875</td>\n",
       "      <td>144.894</td>\n",
       "      <td>2018-05-15</td>\n",
       "      <td>07:47:45</td>\n",
       "      <td>138.31</td>\n",
       "      <td>10:06:03</td>\n",
       "      <td>165.98</td>\n",
       "    </tr>\n",
       "    <tr>\n",
       "      <th>24</th>\n",
       "      <td>ID5521162865</td>\n",
       "      <td>3.0</td>\n",
       "      <td>1.0</td>\n",
       "      <td>46.530</td>\n",
       "      <td>38.0</td>\n",
       "      <td>13.0</td>\n",
       "      <td>-37.683040</td>\n",
       "      <td>142.912637</td>\n",
       "      <td>-38.737104</td>\n",
       "      <td>144.104747</td>\n",
       "      <td>156.968</td>\n",
       "      <td>2018-05-05</td>\n",
       "      <td>15:34:16</td>\n",
       "      <td>149.29</td>\n",
       "      <td>18:03:33</td>\n",
       "      <td>217.27</td>\n",
       "    </tr>\n",
       "    <tr>\n",
       "      <th>25</th>\n",
       "      <td>ID1610111263</td>\n",
       "      <td>2.0</td>\n",
       "      <td>0.0</td>\n",
       "      <td>21.190</td>\n",
       "      <td>1.0</td>\n",
       "      <td>34.0</td>\n",
       "      <td>-37.193637</td>\n",
       "      <td>147.662291</td>\n",
       "      <td>-37.102390</td>\n",
       "      <td>143.453047</td>\n",
       "      <td>373.587</td>\n",
       "      <td>2018-01-14</td>\n",
       "      <td>10:06:31</td>\n",
       "      <td>368.07</td>\n",
       "      <td>16:14:35</td>\n",
       "      <td>147.82</td>\n",
       "    </tr>\n",
       "    <tr>\n",
       "      <th>26</th>\n",
       "      <td>ID1959705247</td>\n",
       "      <td>3.0</td>\n",
       "      <td>0.0</td>\n",
       "      <td>47.391</td>\n",
       "      <td>35.0</td>\n",
       "      <td>29.0</td>\n",
       "      <td>-36.831610</td>\n",
       "      <td>146.906666</td>\n",
       "      <td>-37.066384</td>\n",
       "      <td>148.243110</td>\n",
       "      <td>121.729</td>\n",
       "      <td>2018-03-04</td>\n",
       "      <td>19:24:33</td>\n",
       "      <td>117.25</td>\n",
       "      <td>21:21:48</td>\n",
       "      <td>183.25</td>\n",
       "    </tr>\n",
       "    <tr>\n",
       "      <th>27</th>\n",
       "      <td>ID5961876075</td>\n",
       "      <td>1.0</td>\n",
       "      <td>1.0</td>\n",
       "      <td>28.224</td>\n",
       "      <td>39.0</td>\n",
       "      <td>22.0</td>\n",
       "      <td>-38.771070</td>\n",
       "      <td>148.239978</td>\n",
       "      <td>-37.457867</td>\n",
       "      <td>145.123219</td>\n",
       "      <td>309.623</td>\n",
       "      <td>2018-03-21</td>\n",
       "      <td>08:25:11</td>\n",
       "      <td>316.21</td>\n",
       "      <td>13:41:23</td>\n",
       "      <td>140.88</td>\n",
       "    </tr>\n",
       "    <tr>\n",
       "      <th>28</th>\n",
       "      <td>ID1176968201</td>\n",
       "      <td>2.0</td>\n",
       "      <td>0.0</td>\n",
       "      <td>13.836</td>\n",
       "      <td>6.0</td>\n",
       "      <td>35.0</td>\n",
       "      <td>-38.007719</td>\n",
       "      <td>145.788314</td>\n",
       "      <td>-36.823192</td>\n",
       "      <td>146.785549</td>\n",
       "      <td>158.618</td>\n",
       "      <td>2018-04-23</td>\n",
       "      <td>19:47:12</td>\n",
       "      <td>160.03</td>\n",
       "      <td>22:27:13</td>\n",
       "      <td>145.62</td>\n",
       "    </tr>\n",
       "    <tr>\n",
       "      <th>29</th>\n",
       "      <td>ID5742666477</td>\n",
       "      <td>1.0</td>\n",
       "      <td>1.0</td>\n",
       "      <td>39.535</td>\n",
       "      <td>43.0</td>\n",
       "      <td>45.0</td>\n",
       "      <td>-36.871903</td>\n",
       "      <td>145.229938</td>\n",
       "      <td>-38.964083</td>\n",
       "      <td>145.141963</td>\n",
       "      <td>233.023</td>\n",
       "      <td>2018-07-15</td>\n",
       "      <td>23:49:43</td>\n",
       "      <td>239.61</td>\n",
       "      <td>3:49:19</td>\n",
       "      <td>170.08</td>\n",
       "    </tr>\n",
       "    <tr>\n",
       "      <th>...</th>\n",
       "      <td>...</td>\n",
       "      <td>...</td>\n",
       "      <td>...</td>\n",
       "      <td>...</td>\n",
       "      <td>...</td>\n",
       "      <td>...</td>\n",
       "      <td>...</td>\n",
       "      <td>...</td>\n",
       "      <td>...</td>\n",
       "      <td>...</td>\n",
       "      <td>...</td>\n",
       "      <td>...</td>\n",
       "      <td>...</td>\n",
       "      <td>...</td>\n",
       "      <td>...</td>\n",
       "      <td>...</td>\n",
       "    </tr>\n",
       "    <tr>\n",
       "      <th>35298</th>\n",
       "      <td>ID5703376686</td>\n",
       "      <td>3.0</td>\n",
       "      <td>1.0</td>\n",
       "      <td>45.111</td>\n",
       "      <td>28.0</td>\n",
       "      <td>36.0</td>\n",
       "      <td>-38.435570</td>\n",
       "      <td>143.707945</td>\n",
       "      <td>-37.883692</td>\n",
       "      <td>143.580588</td>\n",
       "      <td>62.437</td>\n",
       "      <td>2018-07-03</td>\n",
       "      <td>10:59:38</td>\n",
       "      <td>63.35</td>\n",
       "      <td>12:02:59</td>\n",
       "      <td>187.51</td>\n",
       "    </tr>\n",
       "    <tr>\n",
       "      <th>35299</th>\n",
       "      <td>ID1258225109</td>\n",
       "      <td>1.0</td>\n",
       "      <td>0.0</td>\n",
       "      <td>21.800</td>\n",
       "      <td>40.0</td>\n",
       "      <td>10.0</td>\n",
       "      <td>-38.562497</td>\n",
       "      <td>145.355406</td>\n",
       "      <td>-38.641112</td>\n",
       "      <td>147.050691</td>\n",
       "      <td>147.738</td>\n",
       "      <td>2018-02-15</td>\n",
       "      <td>20:29:28</td>\n",
       "      <td>154.32</td>\n",
       "      <td>23:03:47</td>\n",
       "      <td>111.40</td>\n",
       "    </tr>\n",
       "    <tr>\n",
       "      <th>35300</th>\n",
       "      <td>ID1619267064</td>\n",
       "      <td>1.0</td>\n",
       "      <td>0.0</td>\n",
       "      <td>13.034</td>\n",
       "      <td>29.0</td>\n",
       "      <td>18.0</td>\n",
       "      <td>-37.063353</td>\n",
       "      <td>148.288091</td>\n",
       "      <td>-38.880932</td>\n",
       "      <td>147.577812</td>\n",
       "      <td>211.708</td>\n",
       "      <td>2018-01-22</td>\n",
       "      <td>06:08:07</td>\n",
       "      <td>218.29</td>\n",
       "      <td>9:40:39</td>\n",
       "      <td>95.57</td>\n",
       "    </tr>\n",
       "    <tr>\n",
       "      <th>35301</th>\n",
       "      <td>ID5711826541</td>\n",
       "      <td>2.0</td>\n",
       "      <td>1.0</td>\n",
       "      <td>15.683</td>\n",
       "      <td>3.0</td>\n",
       "      <td>13.0</td>\n",
       "      <td>-38.535508</td>\n",
       "      <td>142.960056</td>\n",
       "      <td>-38.840247</td>\n",
       "      <td>144.208702</td>\n",
       "      <td>113.673</td>\n",
       "      <td>2018-01-07</td>\n",
       "      <td>17:07:09</td>\n",
       "      <td>116.54</td>\n",
       "      <td>19:03:41</td>\n",
       "      <td>177.63</td>\n",
       "    </tr>\n",
       "    <tr>\n",
       "      <th>35302</th>\n",
       "      <td>ID1300250220</td>\n",
       "      <td>1.0</td>\n",
       "      <td>0.0</td>\n",
       "      <td>30.582</td>\n",
       "      <td>7.0</td>\n",
       "      <td>43.0</td>\n",
       "      <td>-37.916712</td>\n",
       "      <td>144.905346</td>\n",
       "      <td>-36.967663</td>\n",
       "      <td>145.091692</td>\n",
       "      <td>106.921</td>\n",
       "      <td>2018-05-25</td>\n",
       "      <td>04:17:07</td>\n",
       "      <td>113.50</td>\n",
       "      <td>6:10:37</td>\n",
       "      <td>124.11</td>\n",
       "    </tr>\n",
       "    <tr>\n",
       "      <th>35303</th>\n",
       "      <td>ID1947352988</td>\n",
       "      <td>1.0</td>\n",
       "      <td>0.0</td>\n",
       "      <td>24.995</td>\n",
       "      <td>22.0</td>\n",
       "      <td>43.0</td>\n",
       "      <td>-37.302177</td>\n",
       "      <td>144.975570</td>\n",
       "      <td>-37.115591</td>\n",
       "      <td>145.026115</td>\n",
       "      <td>21.248</td>\n",
       "      <td>2018-01-19</td>\n",
       "      <td>21:29:45</td>\n",
       "      <td>27.83</td>\n",
       "      <td>21:57:34</td>\n",
       "      <td>111.67</td>\n",
       "    </tr>\n",
       "    <tr>\n",
       "      <th>35304</th>\n",
       "      <td>ID1650485336</td>\n",
       "      <td>2.0</td>\n",
       "      <td>0.0</td>\n",
       "      <td>38.968</td>\n",
       "      <td>24.0</td>\n",
       "      <td>7.0</td>\n",
       "      <td>-37.038052</td>\n",
       "      <td>147.335276</td>\n",
       "      <td>-38.063650</td>\n",
       "      <td>145.151830</td>\n",
       "      <td>223.968</td>\n",
       "      <td>2018-07-08</td>\n",
       "      <td>07:35:31</td>\n",
       "      <td>223.28</td>\n",
       "      <td>11:18:47</td>\n",
       "      <td>141.09</td>\n",
       "    </tr>\n",
       "    <tr>\n",
       "      <th>35305</th>\n",
       "      <td>ID1716920417</td>\n",
       "      <td>1.0</td>\n",
       "      <td>0.0</td>\n",
       "      <td>10.585</td>\n",
       "      <td>39.0</td>\n",
       "      <td>38.0</td>\n",
       "      <td>-38.569160</td>\n",
       "      <td>148.371479</td>\n",
       "      <td>-37.865686</td>\n",
       "      <td>142.814991</td>\n",
       "      <td>492.150</td>\n",
       "      <td>2018-07-15</td>\n",
       "      <td>01:30:20</td>\n",
       "      <td>498.73</td>\n",
       "      <td>9:49:03</td>\n",
       "      <td>155.33</td>\n",
       "    </tr>\n",
       "    <tr>\n",
       "      <th>35306</th>\n",
       "      <td>ID5841416753</td>\n",
       "      <td>1.0</td>\n",
       "      <td>1.0</td>\n",
       "      <td>24.837</td>\n",
       "      <td>31.0</td>\n",
       "      <td>38.0</td>\n",
       "      <td>-37.430202</td>\n",
       "      <td>143.790819</td>\n",
       "      <td>-37.771951</td>\n",
       "      <td>142.834861</td>\n",
       "      <td>92.495</td>\n",
       "      <td>2018-01-25</td>\n",
       "      <td>08:57:29</td>\n",
       "      <td>99.08</td>\n",
       "      <td>10:36:33</td>\n",
       "      <td>126.96</td>\n",
       "    </tr>\n",
       "    <tr>\n",
       "      <th>35307</th>\n",
       "      <td>ID1346573466</td>\n",
       "      <td>1.0</td>\n",
       "      <td>0.0</td>\n",
       "      <td>26.231</td>\n",
       "      <td>23.0</td>\n",
       "      <td>40.0</td>\n",
       "      <td>-37.271910</td>\n",
       "      <td>142.786440</td>\n",
       "      <td>-38.406264</td>\n",
       "      <td>145.321244</td>\n",
       "      <td>256.113</td>\n",
       "      <td>2018-05-22</td>\n",
       "      <td>20:23:40</td>\n",
       "      <td>262.70</td>\n",
       "      <td>0:46:21</td>\n",
       "      <td>116.76</td>\n",
       "    </tr>\n",
       "    <tr>\n",
       "      <th>35308</th>\n",
       "      <td>ID1318864558</td>\n",
       "      <td>1.0</td>\n",
       "      <td>0.0</td>\n",
       "      <td>35.725</td>\n",
       "      <td>19.0</td>\n",
       "      <td>5.0</td>\n",
       "      <td>-36.925668</td>\n",
       "      <td>144.635312</td>\n",
       "      <td>-37.440685</td>\n",
       "      <td>146.434584</td>\n",
       "      <td>169.555</td>\n",
       "      <td>2018-06-20</td>\n",
       "      <td>00:18:06</td>\n",
       "      <td>176.14</td>\n",
       "      <td>3:14:14</td>\n",
       "      <td>126.55</td>\n",
       "    </tr>\n",
       "    <tr>\n",
       "      <th>35309</th>\n",
       "      <td>ID1526918325</td>\n",
       "      <td>2.0</td>\n",
       "      <td>0.0</td>\n",
       "      <td>10.009</td>\n",
       "      <td>44.0</td>\n",
       "      <td>44.0</td>\n",
       "      <td>-36.608114</td>\n",
       "      <td>147.503478</td>\n",
       "      <td>-36.715409</td>\n",
       "      <td>147.737156</td>\n",
       "      <td>24.043</td>\n",
       "      <td>2018-05-09</td>\n",
       "      <td>02:39:49</td>\n",
       "      <td>29.80</td>\n",
       "      <td>3:09:37</td>\n",
       "      <td>147.40</td>\n",
       "    </tr>\n",
       "    <tr>\n",
       "      <th>35310</th>\n",
       "      <td>ID1957212674</td>\n",
       "      <td>1.0</td>\n",
       "      <td>0.0</td>\n",
       "      <td>22.125</td>\n",
       "      <td>10.0</td>\n",
       "      <td>11.0</td>\n",
       "      <td>-38.585208</td>\n",
       "      <td>147.068971</td>\n",
       "      <td>-37.506976</td>\n",
       "      <td>143.253080</td>\n",
       "      <td>355.362</td>\n",
       "      <td>2018-07-24</td>\n",
       "      <td>15:25:10</td>\n",
       "      <td>361.95</td>\n",
       "      <td>21:27:06</td>\n",
       "      <td>125.90</td>\n",
       "    </tr>\n",
       "    <tr>\n",
       "      <th>35311</th>\n",
       "      <td>ID1510405211</td>\n",
       "      <td>3.0</td>\n",
       "      <td>0.0</td>\n",
       "      <td>48.315</td>\n",
       "      <td>1.0</td>\n",
       "      <td>7.0</td>\n",
       "      <td>-37.362342</td>\n",
       "      <td>147.592017</td>\n",
       "      <td>-38.081532</td>\n",
       "      <td>145.105005</td>\n",
       "      <td>233.149</td>\n",
       "      <td>2018-01-24</td>\n",
       "      <td>03:52:09</td>\n",
       "      <td>218.54</td>\n",
       "      <td>7:30:41</td>\n",
       "      <td>211.28</td>\n",
       "    </tr>\n",
       "    <tr>\n",
       "      <th>35312</th>\n",
       "      <td>ID1232250336</td>\n",
       "      <td>2.0</td>\n",
       "      <td>0.0</td>\n",
       "      <td>19.667</td>\n",
       "      <td>30.0</td>\n",
       "      <td>9.0</td>\n",
       "      <td>-37.491574</td>\n",
       "      <td>148.038335</td>\n",
       "      <td>-38.955058</td>\n",
       "      <td>145.521330</td>\n",
       "      <td>273.825</td>\n",
       "      <td>2018-06-27</td>\n",
       "      <td>23:03:15</td>\n",
       "      <td>271.52</td>\n",
       "      <td>3:34:46</td>\n",
       "      <td>175.32</td>\n",
       "    </tr>\n",
       "    <tr>\n",
       "      <th>35313</th>\n",
       "      <td>ID1931283667</td>\n",
       "      <td>1.0</td>\n",
       "      <td>0.0</td>\n",
       "      <td>7.640</td>\n",
       "      <td>10.0</td>\n",
       "      <td>37.0</td>\n",
       "      <td>-38.501398</td>\n",
       "      <td>147.080736</td>\n",
       "      <td>-37.556110</td>\n",
       "      <td>144.394274</td>\n",
       "      <td>257.982</td>\n",
       "      <td>2018-04-01</td>\n",
       "      <td>15:18:07</td>\n",
       "      <td>264.56</td>\n",
       "      <td>19:42:40</td>\n",
       "      <td>114.70</td>\n",
       "    </tr>\n",
       "    <tr>\n",
       "      <th>35314</th>\n",
       "      <td>ID5557562838</td>\n",
       "      <td>1.0</td>\n",
       "      <td>1.0</td>\n",
       "      <td>10.095</td>\n",
       "      <td>44.0</td>\n",
       "      <td>35.0</td>\n",
       "      <td>-36.627287</td>\n",
       "      <td>147.522637</td>\n",
       "      <td>-36.642514</td>\n",
       "      <td>146.972980</td>\n",
       "      <td>49.128</td>\n",
       "      <td>2018-03-01</td>\n",
       "      <td>11:55:18</td>\n",
       "      <td>55.71</td>\n",
       "      <td>12:51:00</td>\n",
       "      <td>118.84</td>\n",
       "    </tr>\n",
       "    <tr>\n",
       "      <th>35315</th>\n",
       "      <td>ID1825530148</td>\n",
       "      <td>3.0</td>\n",
       "      <td>0.0</td>\n",
       "      <td>14.855</td>\n",
       "      <td>41.0</td>\n",
       "      <td>40.0</td>\n",
       "      <td>-36.571585</td>\n",
       "      <td>143.559608</td>\n",
       "      <td>-38.549252</td>\n",
       "      <td>145.368478</td>\n",
       "      <td>271.911</td>\n",
       "      <td>2018-07-11</td>\n",
       "      <td>21:43:51</td>\n",
       "      <td>253.78</td>\n",
       "      <td>22:57:45</td>\n",
       "      <td>203.68</td>\n",
       "    </tr>\n",
       "    <tr>\n",
       "      <th>35316</th>\n",
       "      <td>ID1547970315</td>\n",
       "      <td>3.0</td>\n",
       "      <td>0.0</td>\n",
       "      <td>51.675</td>\n",
       "      <td>13.0</td>\n",
       "      <td>5.0</td>\n",
       "      <td>-38.989427</td>\n",
       "      <td>144.271387</td>\n",
       "      <td>-37.476933</td>\n",
       "      <td>146.222178</td>\n",
       "      <td>239.661</td>\n",
       "      <td>2018-06-03</td>\n",
       "      <td>06:08:09</td>\n",
       "      <td>224.46</td>\n",
       "      <td>9:52:36</td>\n",
       "      <td>173.96</td>\n",
       "    </tr>\n",
       "    <tr>\n",
       "      <th>35317</th>\n",
       "      <td>ID1556370400</td>\n",
       "      <td>3.0</td>\n",
       "      <td>0.0</td>\n",
       "      <td>26.589</td>\n",
       "      <td>10.0</td>\n",
       "      <td>36.0</td>\n",
       "      <td>-38.367642</td>\n",
       "      <td>146.883835</td>\n",
       "      <td>-38.043890</td>\n",
       "      <td>143.954083</td>\n",
       "      <td>258.782</td>\n",
       "      <td>2018-01-21</td>\n",
       "      <td>21:07:29</td>\n",
       "      <td>241.85</td>\n",
       "      <td>1:09:19</td>\n",
       "      <td>207.46</td>\n",
       "    </tr>\n",
       "    <tr>\n",
       "      <th>35318</th>\n",
       "      <td>ID5734666789</td>\n",
       "      <td>3.0</td>\n",
       "      <td>1.0</td>\n",
       "      <td>11.547</td>\n",
       "      <td>41.0</td>\n",
       "      <td>40.0</td>\n",
       "      <td>-36.571903</td>\n",
       "      <td>143.609713</td>\n",
       "      <td>-38.443588</td>\n",
       "      <td>145.158693</td>\n",
       "      <td>249.227</td>\n",
       "      <td>2018-07-09</td>\n",
       "      <td>12:36:15</td>\n",
       "      <td>233.16</td>\n",
       "      <td>16:29:24</td>\n",
       "      <td>225.01</td>\n",
       "    </tr>\n",
       "    <tr>\n",
       "      <th>35319</th>\n",
       "      <td>ID5810630474</td>\n",
       "      <td>2.0</td>\n",
       "      <td>1.0</td>\n",
       "      <td>45.196</td>\n",
       "      <td>18.0</td>\n",
       "      <td>17.0</td>\n",
       "      <td>-38.830128</td>\n",
       "      <td>147.609250</td>\n",
       "      <td>-36.735763</td>\n",
       "      <td>146.310071</td>\n",
       "      <td>259.641</td>\n",
       "      <td>2018-04-09</td>\n",
       "      <td>19:15:26</td>\n",
       "      <td>257.80</td>\n",
       "      <td>23:33:14</td>\n",
       "      <td>184.19</td>\n",
       "    </tr>\n",
       "    <tr>\n",
       "      <th>35320</th>\n",
       "      <td>ID1534539304</td>\n",
       "      <td>3.0</td>\n",
       "      <td>0.0</td>\n",
       "      <td>18.551</td>\n",
       "      <td>32.0</td>\n",
       "      <td>37.0</td>\n",
       "      <td>-38.846012</td>\n",
       "      <td>143.503526</td>\n",
       "      <td>-37.423896</td>\n",
       "      <td>144.455522</td>\n",
       "      <td>178.907</td>\n",
       "      <td>2018-03-09</td>\n",
       "      <td>04:07:19</td>\n",
       "      <td>169.23</td>\n",
       "      <td>6:56:32</td>\n",
       "      <td>199.39</td>\n",
       "    </tr>\n",
       "    <tr>\n",
       "      <th>35321</th>\n",
       "      <td>ID1281459131</td>\n",
       "      <td>2.0</td>\n",
       "      <td>0.0</td>\n",
       "      <td>27.107</td>\n",
       "      <td>27.0</td>\n",
       "      <td>26.0</td>\n",
       "      <td>-37.262457</td>\n",
       "      <td>146.563383</td>\n",
       "      <td>-38.240569</td>\n",
       "      <td>147.961180</td>\n",
       "      <td>164.285</td>\n",
       "      <td>2018-07-25</td>\n",
       "      <td>01:34:32</td>\n",
       "      <td>165.52</td>\n",
       "      <td>4:20:03</td>\n",
       "      <td>165.32</td>\n",
       "    </tr>\n",
       "    <tr>\n",
       "      <th>35322</th>\n",
       "      <td>ID1923223866</td>\n",
       "      <td>1.0</td>\n",
       "      <td>0.0</td>\n",
       "      <td>35.942</td>\n",
       "      <td>41.0</td>\n",
       "      <td>25.0</td>\n",
       "      <td>-36.640036</td>\n",
       "      <td>143.591972</td>\n",
       "      <td>-37.477662</td>\n",
       "      <td>145.781369</td>\n",
       "      <td>215.678</td>\n",
       "      <td>2018-04-25</td>\n",
       "      <td>21:10:49</td>\n",
       "      <td>222.26</td>\n",
       "      <td>0:53:04</td>\n",
       "      <td>130.29</td>\n",
       "    </tr>\n",
       "    <tr>\n",
       "      <th>35323</th>\n",
       "      <td>ID1707751384</td>\n",
       "      <td>1.0</td>\n",
       "      <td>0.0</td>\n",
       "      <td>16.830</td>\n",
       "      <td>25.0</td>\n",
       "      <td>22.0</td>\n",
       "      <td>-37.424933</td>\n",
       "      <td>145.841137</td>\n",
       "      <td>-37.514790</td>\n",
       "      <td>144.989067</td>\n",
       "      <td>75.941</td>\n",
       "      <td>2018-03-27</td>\n",
       "      <td>02:20:14</td>\n",
       "      <td>82.52</td>\n",
       "      <td>3:42:45</td>\n",
       "      <td>112.47</td>\n",
       "    </tr>\n",
       "    <tr>\n",
       "      <th>35324</th>\n",
       "      <td>ID1188700713</td>\n",
       "      <td>1.0</td>\n",
       "      <td>0.0</td>\n",
       "      <td>29.251</td>\n",
       "      <td>14.0</td>\n",
       "      <td>38.0</td>\n",
       "      <td>-38.079357</td>\n",
       "      <td>148.397180</td>\n",
       "      <td>-37.765569</td>\n",
       "      <td>142.940820</td>\n",
       "      <td>480.334</td>\n",
       "      <td>2018-03-18</td>\n",
       "      <td>06:32:02</td>\n",
       "      <td>486.92</td>\n",
       "      <td>14:38:57</td>\n",
       "      <td>122.93</td>\n",
       "    </tr>\n",
       "    <tr>\n",
       "      <th>35325</th>\n",
       "      <td>ID5826546239</td>\n",
       "      <td>1.0</td>\n",
       "      <td>1.0</td>\n",
       "      <td>7.568</td>\n",
       "      <td>5.0</td>\n",
       "      <td>44.0</td>\n",
       "      <td>-37.559647</td>\n",
       "      <td>146.341637</td>\n",
       "      <td>-36.667040</td>\n",
       "      <td>147.785790</td>\n",
       "      <td>162.191</td>\n",
       "      <td>2018-05-17</td>\n",
       "      <td>14:55:35</td>\n",
       "      <td>168.77</td>\n",
       "      <td>17:44:21</td>\n",
       "      <td>139.01</td>\n",
       "    </tr>\n",
       "    <tr>\n",
       "      <th>35326</th>\n",
       "      <td>ID1760089166</td>\n",
       "      <td>1.0</td>\n",
       "      <td>0.0</td>\n",
       "      <td>22.096</td>\n",
       "      <td>39.0</td>\n",
       "      <td>13.0</td>\n",
       "      <td>-38.834893</td>\n",
       "      <td>148.317422</td>\n",
       "      <td>-38.911169</td>\n",
       "      <td>144.193535</td>\n",
       "      <td>357.466</td>\n",
       "      <td>2018-01-10</td>\n",
       "      <td>11:16:15</td>\n",
       "      <td>364.05</td>\n",
       "      <td>17:20:18</td>\n",
       "      <td>111.34</td>\n",
       "    </tr>\n",
       "    <tr>\n",
       "      <th>35327</th>\n",
       "      <td>ID1940042419</td>\n",
       "      <td>1.0</td>\n",
       "      <td>0.0</td>\n",
       "      <td>31.818</td>\n",
       "      <td>39.0</td>\n",
       "      <td>36.0</td>\n",
       "      <td>-38.745267</td>\n",
       "      <td>148.235925</td>\n",
       "      <td>-38.176621</td>\n",
       "      <td>143.882595</td>\n",
       "      <td>384.662</td>\n",
       "      <td>2018-07-08</td>\n",
       "      <td>03:10:44</td>\n",
       "      <td>391.25</td>\n",
       "      <td>9:41:59</td>\n",
       "      <td>142.73</td>\n",
       "    </tr>\n",
       "  </tbody>\n",
       "</table>\n",
       "<p>35328 rows × 16 columns</p>\n",
       "</div>"
      ],
      "text/plain": [
       "                 Id  Drone Type  Post Type  Package Weight  Origin Region  \\\n",
       "0      ID1796901771         2.0        0.0          23.969            9.0   \n",
       "1      ID1611406588         2.0        0.0          14.066           10.0   \n",
       "2      ID5941688071         2.0        1.0           6.601            7.0   \n",
       "3      ID1132498967         3.0        0.0          19.985           13.0   \n",
       "4      ID1355699258         3.0        0.0          39.859            7.0   \n",
       "5      ID1132063008         3.0        0.0           6.438           29.0   \n",
       "6      ID5650171070         1.0        1.0          34.054           34.0   \n",
       "7      ID1807672339         1.0        0.0          39.477           33.0   \n",
       "8      ID1906657399         1.0        0.0          61.913            8.0   \n",
       "9      ID1413237898         3.0        0.0          23.111           35.0   \n",
       "10     ID1378638648         2.0        0.0          13.844            7.0   \n",
       "11     ID1671767679         1.0        0.0           6.924           11.0   \n",
       "12     ID1312444850         1.0        0.0          29.806           14.0   \n",
       "13     ID1568552207         1.0        0.0          11.332           38.0   \n",
       "14     ID5349504287         1.0        1.0          40.722           31.0   \n",
       "15     ID1431054195         1.0        0.0          18.650           14.0   \n",
       "16     ID1125658828         2.0        0.0          11.053           26.0   \n",
       "17     ID1431675804         1.0        0.0          15.420           13.0   \n",
       "18     ID5686941610         2.0        1.0          34.969           41.0   \n",
       "19     ID1734810053         1.0        0.0          10.799           38.0   \n",
       "20     ID5744269953         3.0        1.0          32.571           42.0   \n",
       "21     ID5734351293         3.0        1.0          11.202           41.0   \n",
       "22     ID5838455698         1.0        1.0           5.314           20.0   \n",
       "23     ID1227218421         3.0        0.0          18.463           33.0   \n",
       "24     ID5521162865         3.0        1.0          46.530           38.0   \n",
       "25     ID1610111263         2.0        0.0          21.190            1.0   \n",
       "26     ID1959705247         3.0        0.0          47.391           35.0   \n",
       "27     ID5961876075         1.0        1.0          28.224           39.0   \n",
       "28     ID1176968201         2.0        0.0          13.836            6.0   \n",
       "29     ID5742666477         1.0        1.0          39.535           43.0   \n",
       "...             ...         ...        ...             ...            ...   \n",
       "35298  ID5703376686         3.0        1.0          45.111           28.0   \n",
       "35299  ID1258225109         1.0        0.0          21.800           40.0   \n",
       "35300  ID1619267064         1.0        0.0          13.034           29.0   \n",
       "35301  ID5711826541         2.0        1.0          15.683            3.0   \n",
       "35302  ID1300250220         1.0        0.0          30.582            7.0   \n",
       "35303  ID1947352988         1.0        0.0          24.995           22.0   \n",
       "35304  ID1650485336         2.0        0.0          38.968           24.0   \n",
       "35305  ID1716920417         1.0        0.0          10.585           39.0   \n",
       "35306  ID5841416753         1.0        1.0          24.837           31.0   \n",
       "35307  ID1346573466         1.0        0.0          26.231           23.0   \n",
       "35308  ID1318864558         1.0        0.0          35.725           19.0   \n",
       "35309  ID1526918325         2.0        0.0          10.009           44.0   \n",
       "35310  ID1957212674         1.0        0.0          22.125           10.0   \n",
       "35311  ID1510405211         3.0        0.0          48.315            1.0   \n",
       "35312  ID1232250336         2.0        0.0          19.667           30.0   \n",
       "35313  ID1931283667         1.0        0.0           7.640           10.0   \n",
       "35314  ID5557562838         1.0        1.0          10.095           44.0   \n",
       "35315  ID1825530148         3.0        0.0          14.855           41.0   \n",
       "35316  ID1547970315         3.0        0.0          51.675           13.0   \n",
       "35317  ID1556370400         3.0        0.0          26.589           10.0   \n",
       "35318  ID5734666789         3.0        1.0          11.547           41.0   \n",
       "35319  ID5810630474         2.0        1.0          45.196           18.0   \n",
       "35320  ID1534539304         3.0        0.0          18.551           32.0   \n",
       "35321  ID1281459131         2.0        0.0          27.107           27.0   \n",
       "35322  ID1923223866         1.0        0.0          35.942           41.0   \n",
       "35323  ID1707751384         1.0        0.0          16.830           25.0   \n",
       "35324  ID1188700713         1.0        0.0          29.251           14.0   \n",
       "35325  ID5826546239         1.0        1.0           7.568            5.0   \n",
       "35326  ID1760089166         1.0        0.0          22.096           39.0   \n",
       "35327  ID1940042419         1.0        0.0          31.818           39.0   \n",
       "\n",
       "       Destination Region  Origin Latitude  Origin Longitude  \\\n",
       "0                    28.0       -38.719660        145.672977   \n",
       "1                    16.0       -38.360618        147.066718   \n",
       "2                    19.0       -38.057591        145.139777   \n",
       "3                    14.0       -38.856844        144.203487   \n",
       "4                     2.0       -38.145103        145.106314   \n",
       "5                    46.0       -37.262837        148.136235   \n",
       "6                     9.0       -37.102627        143.581752   \n",
       "7                    11.0       -37.507885        146.672199   \n",
       "8                    32.0       -36.673695        145.373660   \n",
       "9                    23.0       -36.725471        146.861510   \n",
       "10                   19.0       -38.187374        145.047814   \n",
       "11                   14.0       -37.621032        143.319295   \n",
       "12                   30.0       -38.149945        148.443199   \n",
       "13                   12.0       -37.837861        142.814638   \n",
       "14                   31.0       -37.324785        143.734719   \n",
       "15                   38.0       -38.027308        148.324857   \n",
       "16                   16.0       -38.309944        147.924216   \n",
       "17                   45.0       -38.792322        144.172720   \n",
       "18                   30.0       -36.558357        143.405843   \n",
       "19                   26.0       -37.885958        142.888389   \n",
       "20                   24.0       -36.960697        143.909824   \n",
       "21                   15.0       -36.533519        143.508496   \n",
       "22                   16.0       -36.713502        142.915105   \n",
       "23                   29.0       -37.573851        146.623525   \n",
       "24                   13.0       -37.683040        142.912637   \n",
       "25                   34.0       -37.193637        147.662291   \n",
       "26                   29.0       -36.831610        146.906666   \n",
       "27                   22.0       -38.771070        148.239978   \n",
       "28                   35.0       -38.007719        145.788314   \n",
       "29                   45.0       -36.871903        145.229938   \n",
       "...                   ...              ...               ...   \n",
       "35298                36.0       -38.435570        143.707945   \n",
       "35299                10.0       -38.562497        145.355406   \n",
       "35300                18.0       -37.063353        148.288091   \n",
       "35301                13.0       -38.535508        142.960056   \n",
       "35302                43.0       -37.916712        144.905346   \n",
       "35303                43.0       -37.302177        144.975570   \n",
       "35304                 7.0       -37.038052        147.335276   \n",
       "35305                38.0       -38.569160        148.371479   \n",
       "35306                38.0       -37.430202        143.790819   \n",
       "35307                40.0       -37.271910        142.786440   \n",
       "35308                 5.0       -36.925668        144.635312   \n",
       "35309                44.0       -36.608114        147.503478   \n",
       "35310                11.0       -38.585208        147.068971   \n",
       "35311                 7.0       -37.362342        147.592017   \n",
       "35312                 9.0       -37.491574        148.038335   \n",
       "35313                37.0       -38.501398        147.080736   \n",
       "35314                35.0       -36.627287        147.522637   \n",
       "35315                40.0       -36.571585        143.559608   \n",
       "35316                 5.0       -38.989427        144.271387   \n",
       "35317                36.0       -38.367642        146.883835   \n",
       "35318                40.0       -36.571903        143.609713   \n",
       "35319                17.0       -38.830128        147.609250   \n",
       "35320                37.0       -38.846012        143.503526   \n",
       "35321                26.0       -37.262457        146.563383   \n",
       "35322                25.0       -36.640036        143.591972   \n",
       "35323                22.0       -37.424933        145.841137   \n",
       "35324                38.0       -38.079357        148.397180   \n",
       "35325                44.0       -37.559647        146.341637   \n",
       "35326                13.0       -38.834893        148.317422   \n",
       "35327                36.0       -38.745267        148.235925   \n",
       "\n",
       "       Destination Latitude  Destination Longitude  Journey Distance  \\\n",
       "0                -38.479449             143.707491           173.066   \n",
       "1                -37.818610             144.312552           248.715   \n",
       "2                -36.921816             144.668385           133.110   \n",
       "3                -38.023494             148.373488           375.191   \n",
       "4                -37.998439             147.239113           187.611   \n",
       "5                -38.570503             146.070017           232.613   \n",
       "6                -38.847602             145.734979           270.964   \n",
       "7                -37.490127             143.349394           293.445   \n",
       "8                -38.905718             143.243050           311.207   \n",
       "9                -37.229275             142.867476           359.554   \n",
       "10               -36.744701             144.484179           168.137   \n",
       "11               -38.218133             148.393417           450.455   \n",
       "12               -37.619801             148.033033            69.146   \n",
       "13               -38.809759             146.457807           336.021   \n",
       "14               -37.456854             143.855885            18.193   \n",
       "15               -37.762244             142.881355           479.024   \n",
       "16               -37.877281             144.278212           323.004   \n",
       "17               -38.999836             145.159656            88.570   \n",
       "18               -37.602100             147.924727           417.742   \n",
       "19               -38.449147             147.935897           446.117   \n",
       "20               -36.966883             147.229386           295.241   \n",
       "21               -36.648420             148.369410           434.599   \n",
       "22               -37.792547             144.349215           174.851   \n",
       "23               -37.295510             148.224875           144.894   \n",
       "24               -38.737104             144.104747           156.968   \n",
       "25               -37.102390             143.453047           373.587   \n",
       "26               -37.066384             148.243110           121.729   \n",
       "27               -37.457867             145.123219           309.623   \n",
       "28               -36.823192             146.785549           158.618   \n",
       "29               -38.964083             145.141963           233.023   \n",
       "...                     ...                    ...               ...   \n",
       "35298            -37.883692             143.580588            62.437   \n",
       "35299            -38.641112             147.050691           147.738   \n",
       "35300            -38.880932             147.577812           211.708   \n",
       "35301            -38.840247             144.208702           113.673   \n",
       "35302            -36.967663             145.091692           106.921   \n",
       "35303            -37.115591             145.026115            21.248   \n",
       "35304            -38.063650             145.151830           223.968   \n",
       "35305            -37.865686             142.814991           492.150   \n",
       "35306            -37.771951             142.834861            92.495   \n",
       "35307            -38.406264             145.321244           256.113   \n",
       "35308            -37.440685             146.434584           169.555   \n",
       "35309            -36.715409             147.737156            24.043   \n",
       "35310            -37.506976             143.253080           355.362   \n",
       "35311            -38.081532             145.105005           233.149   \n",
       "35312            -38.955058             145.521330           273.825   \n",
       "35313            -37.556110             144.394274           257.982   \n",
       "35314            -36.642514             146.972980            49.128   \n",
       "35315            -38.549252             145.368478           271.911   \n",
       "35316            -37.476933             146.222178           239.661   \n",
       "35317            -38.043890             143.954083           258.782   \n",
       "35318            -38.443588             145.158693           249.227   \n",
       "35319            -36.735763             146.310071           259.641   \n",
       "35320            -37.423896             144.455522           178.907   \n",
       "35321            -38.240569             147.961180           164.285   \n",
       "35322            -37.477662             145.781369           215.678   \n",
       "35323            -37.514790             144.989067            75.941   \n",
       "35324            -37.765569             142.940820           480.334   \n",
       "35325            -36.667040             147.785790           162.191   \n",
       "35326            -38.911169             144.193535           357.466   \n",
       "35327            -38.176621             143.882595           384.662   \n",
       "\n",
       "      Departure Date Departure Time  Travel Time Delivery Time  Delivery Fare  \n",
       "0         2018-06-20       02:59:35       174.02       5:53:36         163.06  \n",
       "1         2018-05-05       22:19:10       247.22       2:26:23         172.89  \n",
       "2         2018-04-05       18:59:17       135.35      21:14:37         175.04  \n",
       "3         2018-07-09       18:25:50       347.67       0:13:30         199.73  \n",
       "4         2018-01-21       21:07:41       177.15       0:04:50         200.05  \n",
       "5         2018-05-23       01:46:50       218.06       5:24:53         203.82  \n",
       "6         2018-03-17       15:09:02       277.55      19:46:35         154.48  \n",
       "7         2018-05-27       05:49:39       300.03      10:49:40         136.19  \n",
       "8         2018-04-10       04:50:00       317.79      10:07:47         974.41  \n",
       "9         2018-07-21       16:43:21       333.46      22:16:48         202.81  \n",
       "10        2018-06-15       18:41:01       169.25      21:30:16         148.45  \n",
       "11        2018-04-15       04:16:16       457.04      11:53:18         151.03  \n",
       "12        2018-05-10       15:42:52        75.73      16:58:35         100.85  \n",
       "13        2018-07-23       16:00:29       342.60      21:43:05         120.15  \n",
       "14        2018-02-19       17:59:11        24.78      18:23:57         132.97  \n",
       "15        2018-05-08       18:17:38       485.61       2:23:14         138.39  \n",
       "16        2018-03-07       11:37:22       319.12      16:56:29         142.01  \n",
       "17        2018-03-06       12:20:15        95.15      13:55:24         103.54  \n",
       "18        2018-04-03       14:57:32       410.80      21:48:20         210.21  \n",
       "19        2018-01-17       22:58:10       452.70       6:30:51         151.81  \n",
       "20        2018-06-15       13:26:05       274.99      18:01:04         229.17  \n",
       "21        2018-04-23       04:14:59       401.68      10:56:39         262.14  \n",
       "22        2018-01-02       06:31:51       181.43       9:33:16         128.06  \n",
       "23        2018-05-15       07:47:45       138.31      10:06:03         165.98  \n",
       "24        2018-05-05       15:34:16       149.29      18:03:33         217.27  \n",
       "25        2018-01-14       10:06:31       368.07      16:14:35         147.82  \n",
       "26        2018-03-04       19:24:33       117.25      21:21:48         183.25  \n",
       "27        2018-03-21       08:25:11       316.21      13:41:23         140.88  \n",
       "28        2018-04-23       19:47:12       160.03      22:27:13         145.62  \n",
       "29        2018-07-15       23:49:43       239.61       3:49:19         170.08  \n",
       "...              ...            ...          ...           ...            ...  \n",
       "35298     2018-07-03       10:59:38        63.35      12:02:59         187.51  \n",
       "35299     2018-02-15       20:29:28       154.32      23:03:47         111.40  \n",
       "35300     2018-01-22       06:08:07       218.29       9:40:39          95.57  \n",
       "35301     2018-01-07       17:07:09       116.54      19:03:41         177.63  \n",
       "35302     2018-05-25       04:17:07       113.50       6:10:37         124.11  \n",
       "35303     2018-01-19       21:29:45        27.83      21:57:34         111.67  \n",
       "35304     2018-07-08       07:35:31       223.28      11:18:47         141.09  \n",
       "35305     2018-07-15       01:30:20       498.73       9:49:03         155.33  \n",
       "35306     2018-01-25       08:57:29        99.08      10:36:33         126.96  \n",
       "35307     2018-05-22       20:23:40       262.70       0:46:21         116.76  \n",
       "35308     2018-06-20       00:18:06       176.14       3:14:14         126.55  \n",
       "35309     2018-05-09       02:39:49        29.80       3:09:37         147.40  \n",
       "35310     2018-07-24       15:25:10       361.95      21:27:06         125.90  \n",
       "35311     2018-01-24       03:52:09       218.54       7:30:41         211.28  \n",
       "35312     2018-06-27       23:03:15       271.52       3:34:46         175.32  \n",
       "35313     2018-04-01       15:18:07       264.56      19:42:40         114.70  \n",
       "35314     2018-03-01       11:55:18        55.71      12:51:00         118.84  \n",
       "35315     2018-07-11       21:43:51       253.78      22:57:45         203.68  \n",
       "35316     2018-06-03       06:08:09       224.46       9:52:36         173.96  \n",
       "35317     2018-01-21       21:07:29       241.85       1:09:19         207.46  \n",
       "35318     2018-07-09       12:36:15       233.16      16:29:24         225.01  \n",
       "35319     2018-04-09       19:15:26       257.80      23:33:14         184.19  \n",
       "35320     2018-03-09       04:07:19       169.23       6:56:32         199.39  \n",
       "35321     2018-07-25       01:34:32       165.52       4:20:03         165.32  \n",
       "35322     2018-04-25       21:10:49       222.26       0:53:04         130.29  \n",
       "35323     2018-03-27       02:20:14        82.52       3:42:45         112.47  \n",
       "35324     2018-03-18       06:32:02       486.92      14:38:57         122.93  \n",
       "35325     2018-05-17       14:55:35       168.77      17:44:21         139.01  \n",
       "35326     2018-01-10       11:16:15       364.05      17:20:18         111.34  \n",
       "35327     2018-07-08       03:10:44       391.25       9:41:59         142.73  \n",
       "\n",
       "[35328 rows x 16 columns]"
      ]
     },
     "execution_count": 59,
     "metadata": {},
     "output_type": "execute_result"
    }
   ],
   "source": [
    "df"
   ]
  },
  {
   "cell_type": "code",
   "execution_count": 60,
   "metadata": {},
   "outputs": [
    {
     "name": "stdout",
     "output_type": "stream",
     "text": [
      "<class 'pandas.core.frame.DataFrame'>\n",
      "Int64Index: 35328 entries, 0 to 35327\n",
      "Data columns (total 16 columns):\n",
      "Id                       35328 non-null object\n",
      "Drone Type               35328 non-null float64\n",
      "Post Type                35328 non-null float64\n",
      "Package Weight           35328 non-null float64\n",
      "Origin Region            35328 non-null float64\n",
      "Destination Region       35328 non-null float64\n",
      "Origin Latitude          35328 non-null float64\n",
      "Origin Longitude         35328 non-null float64\n",
      "Destination Latitude     35328 non-null float64\n",
      "Destination Longitude    35328 non-null float64\n",
      "Journey Distance         35328 non-null float64\n",
      "Departure Date           35328 non-null object\n",
      "Departure Time           35328 non-null object\n",
      "Travel Time              35328 non-null float64\n",
      "Delivery Time            35328 non-null object\n",
      "Delivery Fare            35328 non-null float64\n",
      "dtypes: float64(12), object(4)\n",
      "memory usage: 5.8+ MB\n"
     ]
    }
   ],
   "source": [
    "df.info() #checking datatypes"
   ]
  },
  {
   "cell_type": "code",
   "execution_count": 61,
   "metadata": {},
   "outputs": [],
   "source": [
    "df.to_csv('29520762_solution.csv',index=False) #saving into csv file "
   ]
  },
  {
   "cell_type": "code",
   "execution_count": null,
   "metadata": {},
   "outputs": [],
   "source": []
  }
 ],
 "metadata": {
  "kernelspec": {
   "display_name": "Python 3",
   "language": "python",
   "name": "python3"
  },
  "language_info": {
   "codemirror_mode": {
    "name": "ipython",
    "version": 3
   },
   "file_extension": ".py",
   "mimetype": "text/x-python",
   "name": "python",
   "nbconvert_exporter": "python",
   "pygments_lexer": "ipython3",
   "version": "3.6.5"
  }
 },
 "nbformat": 4,
 "nbformat_minor": 2
}
